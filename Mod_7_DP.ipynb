{
 "cells": [
  {
   "cell_type": "markdown",
   "id": "complex-ideal",
   "metadata": {},
   "source": [
    "# Lab 4a: Dynamic Programming"
   ]
  },
  {
   "cell_type": "markdown",
   "id": "dynamic-hearing",
   "metadata": {},
   "source": [
    "Lab associated with Module 4a: Dynamic Programming"
   ]
  },
  {
   "cell_type": "markdown",
   "id": "reliable-thomson",
   "metadata": {},
   "source": [
    "***"
   ]
  },
  {
   "cell_type": "code",
   "execution_count": 1,
   "id": "unknown-effort",
   "metadata": {},
   "outputs": [
    {
     "name": "stderr",
     "output_type": "stream",
     "text": [
      "/var/folders/kq/6dfzrrz513q5bs2h61zv5g2r0000gn/T/ipykernel_3832/1945220536.py:2: DeprecationWarning: Importing display from IPython.core.display is deprecated since IPython 7.14, please import from IPython display\n",
      "  from IPython.core.display import display, HTML\n"
     ]
    },
    {
     "data": {
      "text/html": [
       "<style>.container { width:95% !important; }</style>"
      ],
      "text/plain": [
       "<IPython.core.display.HTML object>"
      ]
     },
     "metadata": {},
     "output_type": "display_data"
    }
   ],
   "source": [
    "# The following lines are used to increase the width of cells to utilize more space on the screen \n",
    "from IPython.core.display import display, HTML\n",
    "display(HTML(\"<style>.container { width:95% !important; }</style>\"))"
   ]
  },
  {
   "cell_type": "markdown",
   "id": "civilian-racing",
   "metadata": {},
   "source": [
    "***"
   ]
  },
  {
   "cell_type": "markdown",
   "id": "moving-violence",
   "metadata": {},
   "source": [
    "### Section 0: Imports"
   ]
  },
  {
   "cell_type": "code",
   "execution_count": 2,
   "id": "familiar-letters",
   "metadata": {},
   "outputs": [],
   "source": [
    "import numpy as np"
   ]
  },
  {
   "cell_type": "code",
   "execution_count": 3,
   "id": "recovered-literacy",
   "metadata": {},
   "outputs": [],
   "source": [
    "import math"
   ]
  },
  {
   "cell_type": "code",
   "execution_count": 4,
   "id": "multiple-chair",
   "metadata": {},
   "outputs": [],
   "source": [
    "from IPython.display import Image\n",
    "from graphviz import Digraph"
   ]
  },
  {
   "cell_type": "markdown",
   "id": "hungarian-sentence",
   "metadata": {},
   "source": [
    "Details of Digraph package: https://h1ros.github.io/posts/introduction-to-graphviz-in-jupyter-notebook/"
   ]
  },
  {
   "cell_type": "markdown",
   "id": "anonymous-sphere",
   "metadata": {},
   "source": [
    "***"
   ]
  },
  {
   "cell_type": "markdown",
   "id": "fiscal-video",
   "metadata": {},
   "source": [
    "### <font color='red'> Section 1: Write the code for finding the Longest Common Sub-sequence. Make sure you output the Matrix C and the longest sub-sequence. Test your code with various use-cases. </font>"
   ]
  },
  {
   "cell_type": "code",
   "execution_count": 5,
   "id": "developed-pharmacy",
   "metadata": {},
   "outputs": [],
   "source": [
    "### TODO ###\n",
    "### Good Luck ###\n",
    "def LCS(a: str, b: str):\n",
    "    C = [[0 for i in range (len(b))]for j in range(len(a))]\n",
    "\n",
    "    for i in range(len(a)):\n",
    "        if a[i] == b[0]:\n",
    "            C[i][0] = 1\n",
    "    \n",
    "    for i in range(len(b)):\n",
    "        if b[i] == a[0]:\n",
    "            C[0][i] = 1\n",
    "\n",
    "\n",
    "    for i in range(1,len(a)):\n",
    "        for j in range(1,len(b)):\n",
    "            if a[i] == b[j]:\n",
    "                C[i][j] = C[i-1][j-1] + 1\n",
    "                \n",
    "            else:\n",
    "                C[i][j] = max(C[i][j-1],C[i-1][j])\n",
    "    i=len(a) - 1\n",
    "    j = len(b) -1\n",
    "    res = \"\"\n",
    "    while (i>=0 and j>=0):\n",
    "        if a[i] == b[j]:\n",
    "            res += a[i]\n",
    "            i -=1\n",
    "            j -=1\n",
    "        elif C[i-1][j]>C[i][j-1]:\n",
    "            i -=1\n",
    "        else:\n",
    "            j -= 1\n",
    "    return C[len(a)-1][len(b)-1], res[::-1]\n",
    "\n",
    "\n",
    "\n",
    "\n",
    "\n",
    "\n"
   ]
  },
  {
   "cell_type": "code",
   "execution_count": 6,
   "id": "e5a1b1a8",
   "metadata": {},
   "outputs": [
    {
     "name": "stdout",
     "output_type": "stream",
     "text": [
      "16\n",
      "GCCCTAAGCTTAGCTT\n"
     ]
    }
   ],
   "source": [
    "a = \"AGCCCTAAGGGCTACCTAGCTT\"\n",
    "b = \"GACAGCCTACAAGCGTTAGCTTG\"\n",
    "length,res = LCS(a,b)\n",
    "print(length)\n",
    "print(res)"
   ]
  },
  {
   "cell_type": "code",
   "execution_count": 7,
   "id": "b1fd4b90",
   "metadata": {},
   "outputs": [
    {
     "name": "stdout",
     "output_type": "stream",
     "text": [
      "3\n",
      "abv\n"
     ]
    }
   ],
   "source": [
    "a = \"aaaabbvvvv\"\n",
    "b = \"asfsbassev\"\n",
    "length,res = LCS(a,b)\n",
    "print(length)\n",
    "print(res)"
   ]
  },
  {
   "cell_type": "markdown",
   "id": "developed-crest",
   "metadata": {},
   "source": [
    "***"
   ]
  },
  {
   "cell_type": "markdown",
   "id": "subject-annual",
   "metadata": {},
   "source": [
    "***"
   ]
  },
  {
   "cell_type": "markdown",
   "id": "enormous-bishop",
   "metadata": {},
   "source": [
    "### Section 2: Unbounded Knapsack Problem"
   ]
  },
  {
   "cell_type": "markdown",
   "id": "grand-decision",
   "metadata": {},
   "source": [
    "Let us build a solution to unbounded Knapsack problem."
   ]
  },
  {
   "cell_type": "code",
   "execution_count": 8,
   "id": "connected-sustainability",
   "metadata": {},
   "outputs": [],
   "source": [
    "def unboundedKnapsack(W, n, wt, vals, names):\n",
    " \n",
    "    K = [0 for i in range(W + 1)]\n",
    "    ITEMS = [[] for i in range(W + 1)]\n",
    " \n",
    "    for x in range(1, W + 1):\n",
    "        K[x] = 0\n",
    "        for i in range(1, n+1):\n",
    "            \n",
    "            prev_k = K[x]\n",
    "            \n",
    "            if (wt[i-1] <= x):\n",
    "                K[x] = max(K[x], K[x - wt[i-1]] + vals[i-1])\n",
    "                \n",
    "            if K[x] != prev_k:\n",
    "                ITEMS[x] = ITEMS[x - wt[i-1]] + names[i-1]\n",
    "                \n",
    " \n",
    "    return K[W], ITEMS[W]"
   ]
  },
  {
   "cell_type": "code",
   "execution_count": 9,
   "id": "tropical-catalyst",
   "metadata": {},
   "outputs": [
    {
     "name": "stdout",
     "output_type": "stream",
     "text": [
      "We have 3 items\n"
     ]
    }
   ],
   "source": [
    "W = 10\n",
    "wt = [1, 2, 3]\n",
    "vals = [1, 4, 6]\n",
    "names = [[\"Turtle\"], [\"Globe\"], [\"WaterMelon\"]]\n",
    "\n",
    "n = len(names)\n",
    "\n",
    "print('We have {} items'.format(n))                "
   ]
  },
  {
   "cell_type": "code",
   "execution_count": 10,
   "id": "noble-wayne",
   "metadata": {},
   "outputs": [
    {
     "name": "stdout",
     "output_type": "stream",
     "text": [
      "20\n",
      "['Globe', 'Globe', 'Globe', 'Globe', 'Globe']\n"
     ]
    }
   ],
   "source": [
    "K, ITEMS = unboundedKnapsack(W, n, wt, vals, names)\n",
    "print(K)\n",
    "print(ITEMS)"
   ]
  },
  {
   "cell_type": "code",
   "execution_count": 11,
   "id": "english-property",
   "metadata": {},
   "outputs": [
    {
     "data": {
      "text/plain": [
       "['Globe', 'Globe', 'Globe', 'Globe', 'Globe']"
      ]
     },
     "execution_count": 11,
     "metadata": {},
     "output_type": "execute_result"
    }
   ],
   "source": [
    "ITEMS"
   ]
  },
  {
   "cell_type": "code",
   "execution_count": 12,
   "id": "moderate-orbit",
   "metadata": {},
   "outputs": [
    {
     "name": "stdout",
     "output_type": "stream",
     "text": [
      "20\n",
      "['Globe', 'Globe', 'Globe', 'Globe', 'Globe']\n",
      "90\n",
      "['Turtle', 'Turtle', 'Turtle', 'Turtle', 'Turtle', 'Turtle', 'Turtle', 'Turtle', 'Turtle', 'Turtle']\n",
      "25\n",
      "['WaterMelon', 'WaterMelon', 'WaterMelon', 'Turtle']\n"
     ]
    }
   ],
   "source": [
    "# ------------------------------\n",
    "# Code Reflections\n",
    "# ------------------------------\n",
    "\n",
    "#new test\n",
    "W = 10\n",
    "wt = [1, 2, 3]\n",
    "vals = [1, 4, 6]\n",
    "K, ITEMS = unboundedKnapsack(W, n, wt, vals, names)\n",
    "print(K)\n",
    "print(ITEMS)\n",
    "\n",
    "W = 10\n",
    "wt = [1, 2, 3]\n",
    "vals = [9, 4, 6]\n",
    "K, ITEMS = unboundedKnapsack(W, n, wt, vals, names)\n",
    "print(K)\n",
    "print(ITEMS)\n",
    "\n",
    "W = 10\n",
    "wt = [1, 2, 3]\n",
    "vals = [1, 4, 8]\n",
    "K, ITEMS = unboundedKnapsack(W, n, wt, vals, names)\n",
    "print(K)\n",
    "print(ITEMS)\n",
    "\n",
    "\n",
    "\n",
    "\n"
   ]
  },
  {
   "cell_type": "markdown",
   "id": "divine-glossary",
   "metadata": {},
   "source": [
    "***"
   ]
  },
  {
   "cell_type": "markdown",
   "id": "induced-papua",
   "metadata": {},
   "source": [
    "### <font color='red'> Section 3: In the earlier activity, you analysed the code for unbounded knapsack. Based on the algorithm discussed in this section, implement an solution to do 0/1 Knapsack. Make sure you test your algorithms for various test-cases. </font>"
   ]
  },
  {
   "cell_type": "code",
   "execution_count": 13,
   "id": "floral-reggae",
   "metadata": {},
   "outputs": [],
   "source": [
    "#### TODO ####\n",
    "### Good Luck ###\n",
    "def binaryKnapsack(W, n, wt, vals, names):\n",
    " \n",
    "    K = [[0 for i in range(n)] for _ in range(W+1)]\n",
    "    ITEMS = [[[] for _ in range(n)] for i in range(W + 1)]\n",
    "    for x in range (W+1):\n",
    "        if (x>=wt[0]):\n",
    "            K[x][0] = vals[0]\n",
    "            ITEMS[x][0] += names[0]\n",
    "\n",
    "    for x in range(1, W + 1):\n",
    "        for i in range(1, n):\n",
    "            K[x][i] = K[x][i-1]\n",
    "            prev_k = K[x][i]\n",
    "            \n",
    "            if (wt[i] <= x):\n",
    "                K[x][i] = max(K[x][i], K[x - wt[i]][i-1] + vals[i])\n",
    "\n",
    "            if K[x][i] != prev_k:\n",
    "                ITEMS[x][i] = ITEMS[x-wt[i]][i-1] + names[i]\n",
    "            else:\n",
    "                ITEMS[x][i] = ITEMS[x][i-1]\n",
    "\n",
    "    return K[W][n-1], ITEMS[W][n-1]\n",
    "\n",
    "\n",
    "\n",
    "\n",
    "\n",
    "\n"
   ]
  },
  {
   "cell_type": "code",
   "execution_count": 14,
   "id": "1dda5654",
   "metadata": {},
   "outputs": [
    {
     "name": "stdout",
     "output_type": "stream",
     "text": [
      "We have 3 items\n"
     ]
    }
   ],
   "source": [
    "#Test case\n",
    "W = 4\n",
    "wt = [1, 2, 3]\n",
    "vals = [1, 4, 6]\n",
    "names = [[\"Turtle\"], [\"Globe\"], [\"WaterMelon\"]]\n",
    "\n",
    "n = len(names)\n",
    "\n",
    "print('We have {} items'.format(n))   "
   ]
  },
  {
   "cell_type": "code",
   "execution_count": 15,
   "id": "6da1e31c",
   "metadata": {},
   "outputs": [
    {
     "name": "stdout",
     "output_type": "stream",
     "text": [
      "7\n",
      "['Turtle', 'WaterMelon']\n"
     ]
    }
   ],
   "source": [
    "#result\n",
    "K, ITEMS = binaryKnapsack(W, n, wt, vals, names)\n",
    "print(K)\n",
    "print(ITEMS)"
   ]
  },
  {
   "cell_type": "code",
   "execution_count": 16,
   "id": "95d293d8",
   "metadata": {},
   "outputs": [
    {
     "name": "stdout",
     "output_type": "stream",
     "text": [
      "7\n",
      "['Turtle', 'WaterMelon']\n",
      "15\n",
      "['Turtle', 'WaterMelon']\n",
      "12\n",
      "['Globe', 'WaterMelon']\n"
     ]
    }
   ],
   "source": [
    "W = 10\n",
    "wt = [1, 10, 3]\n",
    "vals = [1, 4, 6]\n",
    "K, ITEMS = binaryKnapsack(W, n, wt, vals, names)\n",
    "print(K)\n",
    "print(ITEMS)\n",
    "\n",
    "W = 10\n",
    "wt = [1, 2, 8]\n",
    "vals = [9, 4, 6]\n",
    "K, ITEMS = binaryKnapsack(W, n, wt, vals, names)\n",
    "print(K)\n",
    "print(ITEMS)\n",
    "\n",
    "W = 6\n",
    "wt = [1, 3, 3]\n",
    "vals = [1, 4, 8]\n",
    "K, ITEMS = binaryKnapsack(W, n, wt, vals, names)\n",
    "print(K)\n",
    "print(ITEMS)\n",
    "\n",
    "\n"
   ]
  },
  {
   "cell_type": "markdown",
   "id": "6796a29e",
   "metadata": {},
   "source": []
  },
  {
   "cell_type": "markdown",
   "id": "asian-garbage",
   "metadata": {},
   "source": [
    "Class Room Test-case"
   ]
  },
  {
   "cell_type": "code",
   "execution_count": 17,
   "id": "earned-sierra",
   "metadata": {},
   "outputs": [
    {
     "name": "stdout",
     "output_type": "stream",
     "text": [
      "We have 5 items\n",
      "35\n",
      "['Globe', 'WaterMelon', 'A']\n",
      "42\n",
      "['A', 'A', 'Globe', 'Globe']\n"
     ]
    }
   ],
   "source": [
    "W = 10\n",
    "vals = [20, 8, 14, 13, 35]\n",
    "wt = [6, 2, 4, 3, 11]\n",
    "names = [[\"Turtle\"], [\"Globe\"], [\"WaterMelon\"],[\"A\"],[\"B\"]]\n",
    "\n",
    "n = len(vals)\n",
    "\n",
    "print('We have {} items'.format(n))   \n",
    "K, ITEMS = binaryKnapsack(W, n, wt, vals, names)\n",
    "print(K)\n",
    "print(ITEMS)\n",
    "\n",
    "K, ITEMS = unboundedKnapsack(W, n, wt, vals, names)\n",
    "print(K)\n",
    "print(ITEMS)"
   ]
  },
  {
   "cell_type": "code",
   "execution_count": null,
   "id": "periodic-absolute",
   "metadata": {},
   "outputs": [],
   "source": []
  },
  {
   "cell_type": "markdown",
   "id": "emerging-green",
   "metadata": {},
   "source": [
    "***"
   ]
  },
  {
   "cell_type": "markdown",
   "id": "stainless-visitor",
   "metadata": {},
   "source": [
    "***"
   ]
  }
 ],
 "metadata": {
  "kernelspec": {
   "display_name": "Python 3.9.12 ('sit320')",
   "language": "python",
   "name": "python3"
  },
  "language_info": {
   "codemirror_mode": {
    "name": "ipython",
    "version": 3
   },
   "file_extension": ".py",
   "mimetype": "text/x-python",
   "name": "python",
   "nbconvert_exporter": "python",
   "pygments_lexer": "ipython3",
   "version": "3.9.12"
  },
  "vscode": {
   "interpreter": {
    "hash": "56e6bb6427519132123cd815ae54e5a1ae8039f336ade0a430b8c4660a822be6"
   }
  }
 },
 "nbformat": 4,
 "nbformat_minor": 5
}
