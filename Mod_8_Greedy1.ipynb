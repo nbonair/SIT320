{
 "cells": [
  {
   "cell_type": "markdown",
   "id": "imposed-playlist",
   "metadata": {},
   "source": [
    "# Lab 5a: Greedy Algorithms"
   ]
  },
  {
   "cell_type": "markdown",
   "id": "d97cce87",
   "metadata": {},
   "source": [
    "Lab associated with Module 5a: Greedy Algorithms"
   ]
  },
  {
   "cell_type": "markdown",
   "id": "5c7f2e9d",
   "metadata": {},
   "source": [
    "***"
   ]
  },
  {
   "cell_type": "code",
   "execution_count": 1,
   "id": "5b495ad0",
   "metadata": {},
   "outputs": [
    {
     "name": "stderr",
     "output_type": "stream",
     "text": [
      "/var/folders/kq/6dfzrrz513q5bs2h61zv5g2r0000gn/T/ipykernel_2614/1945220536.py:2: DeprecationWarning: Importing display from IPython.core.display is deprecated since IPython 7.14, please import from IPython display\n",
      "  from IPython.core.display import display, HTML\n"
     ]
    },
    {
     "data": {
      "text/html": [
       "<style>.container { width:95% !important; }</style>"
      ],
      "text/plain": [
       "<IPython.core.display.HTML object>"
      ]
     },
     "metadata": {},
     "output_type": "display_data"
    }
   ],
   "source": [
    "# The following lines are used to increase the width of cells to utilize more space on the screen \n",
    "from IPython.core.display import display, HTML\n",
    "display(HTML(\"<style>.container { width:95% !important; }</style>\"))"
   ]
  },
  {
   "cell_type": "markdown",
   "id": "3a2b855c",
   "metadata": {},
   "source": [
    "***"
   ]
  },
  {
   "cell_type": "markdown",
   "id": "9d0921a0",
   "metadata": {},
   "source": [
    "### Section 0: Imports"
   ]
  },
  {
   "cell_type": "code",
   "execution_count": 2,
   "id": "477622d5",
   "metadata": {},
   "outputs": [],
   "source": [
    "import numpy as np"
   ]
  },
  {
   "cell_type": "code",
   "execution_count": 3,
   "id": "50fb5ed5",
   "metadata": {},
   "outputs": [],
   "source": [
    "import math"
   ]
  },
  {
   "cell_type": "code",
   "execution_count": 4,
   "id": "9910ee06",
   "metadata": {},
   "outputs": [],
   "source": [
    "from IPython.display import Image\n",
    "from graphviz import Digraph"
   ]
  },
  {
   "cell_type": "markdown",
   "id": "e748249f",
   "metadata": {},
   "source": [
    "Install heapdict through Anaconda Navigator or Pip or Conda"
   ]
  },
  {
   "cell_type": "code",
   "execution_count": 5,
   "id": "2eb12be4",
   "metadata": {},
   "outputs": [],
   "source": [
    "import heapdict as heapdict"
   ]
  },
  {
   "cell_type": "markdown",
   "id": "7f9321f8",
   "metadata": {},
   "source": [
    "***"
   ]
  },
  {
   "cell_type": "markdown",
   "id": "1309ad59",
   "metadata": {},
   "source": [
    "### Section 1: Greedy Algorithm for Activity Selection"
   ]
  },
  {
   "cell_type": "markdown",
   "id": "4b8e52ca",
   "metadata": {},
   "source": [
    "A simple greedy algorithm based on sorted activities can written as:"
   ]
  },
  {
   "cell_type": "code",
   "execution_count": 6,
   "id": "2a6897da",
   "metadata": {},
   "outputs": [],
   "source": [
    "# activities are sorted by end time\n",
    "def greedyActivitySelection(activities):\n",
    "    \n",
    "    schedule = []\n",
    "    currentTime = activities[0][0] - 1 # start before any of the activities start.\n",
    "    activities = sorted(activities, key = lambda x:x[1]) #sort activities list based on finish time\n",
    "    for i in range(len(activities)):\n",
    "        start, finish = activities[i]\n",
    "        if start > currentTime:\n",
    "            schedule.append(i)\n",
    "            currentTime = finish\n",
    "    \n",
    "    return schedule"
   ]
  },
  {
   "cell_type": "markdown",
   "id": "1cb9c687",
   "metadata": {},
   "source": [
    "Let us test above function as:"
   ]
  },
  {
   "cell_type": "code",
   "execution_count": 7,
   "id": "55b3a75e",
   "metadata": {},
   "outputs": [
    {
     "name": "stdout",
     "output_type": "stream",
     "text": [
      "Solution:\n",
      "[1, 4]\n",
      "[5, 7]\n",
      "[8, 10]\n",
      "[13, 15]\n"
     ]
    }
   ],
   "source": [
    "activities = [  [1,4],[2,5],[3,6],[5,7],[3,8],[6,9],[8,10],[9,11],[5,12],[6,13],[8,14],[13,15] ]\n",
    "\n",
    "activityList = greedyActivitySelection(activities)\n",
    "\n",
    "print(\"Solution:\")\n",
    "for act in activityList:\n",
    "    print(activities[act])"
   ]
  },
  {
   "cell_type": "markdown",
   "id": "8d527834",
   "metadata": {},
   "source": [
    "Modify above code to implement sorting of the activities. "
   ]
  },
  {
   "cell_type": "markdown",
   "id": "0274c62c",
   "metadata": {},
   "source": [
    "***"
   ]
  },
  {
   "cell_type": "markdown",
   "id": "f9b31a04",
   "metadata": {},
   "source": [
    "### <font color='red'> Activity 1: Analyse the greedy algorithm for Activity Selection problem in this week's lab. Demonstrate your understanding of the code.. </font>"
   ]
  },
  {
   "cell_type": "code",
   "execution_count": 8,
   "id": "bb134824",
   "metadata": {},
   "outputs": [
    {
     "name": "stdout",
     "output_type": "stream",
     "text": [
      "Solution:\n",
      "[0, 3, 6, 11]\n",
      "[1, 4]\n",
      "[5, 7]\n",
      "[8, 10]\n",
      "[13, 15]\n"
     ]
    }
   ],
   "source": [
    "activities = [  [1,4],[2,5],[3,6],[5,7],[3,8],[6,9],[8,10],[9,11],[5,12],[6,13],[8,14],[13,15] ]\n",
    "\n",
    "print(\"Solution:\")\n",
    "print(activityList)\n",
    "for act in activityList:\n",
    "    print(activities[act])"
   ]
  },
  {
   "cell_type": "code",
   "execution_count": 9,
   "id": "60708c50",
   "metadata": {},
   "outputs": [
    {
     "name": "stdout",
     "output_type": "stream",
     "text": [
      "[[1, 4], [2, 5], [5, 7], [5, 7], [3, 8], [6, 9], [8, 9], [9, 11], [8, 12], [10, 12], [5, 12], [6, 13], [8, 14], [13, 15]]\n",
      "Solution:\n",
      "[0, 2, 6, 9, 13]\n",
      "[1, 4]\n",
      "[5, 7]\n",
      "[8, 9]\n",
      "[10, 12]\n",
      "[13, 15]\n"
     ]
    }
   ],
   "source": [
    "# another test\n",
    "activities = [ [5,7], [8,12], [1,4],[2,5],[5,7],[3,8],[6,9],[8,9],[9,11],[10,12],[5,12],[6,13],[8,14],[13,15] ] #new test\n",
    "activities = sorted(activities, key = lambda x:x[1])\n",
    "print(activities)\n",
    "activityList = greedyActivitySelection(activities)\n",
    "\n",
    "print(\"Solution:\")\n",
    "print(activityList)\n",
    "\n",
    "for act in activityList:\n",
    "    print(activities[act])"
   ]
  },
  {
   "cell_type": "markdown",
   "id": "configured-swedish",
   "metadata": {},
   "source": [
    "### <font color='red'> Activity 2: Devise a dynamic programming solution to Activity Selection problem, and see if you get the same results as that of greedy strategy. </font>"
   ]
  },
  {
   "cell_type": "code",
   "execution_count": 10,
   "id": "piano-programming",
   "metadata": {},
   "outputs": [
    {
     "name": "stdout",
     "output_type": "stream",
     "text": [
      "[0, 3, 9, 12, 13]\n",
      "5\n",
      "Solution:\n",
      "[1, 4]\n",
      "[5, 7]\n",
      "[8, 9]\n",
      "[10, 12]\n",
      "[13, 15]\n"
     ]
    }
   ],
   "source": [
    "#### TODO ####\n",
    "### Good Luck ###\n",
    "\n",
    "#initialize data\n",
    "activities = [ [5,7], [8,12], [1,4],[2,5],[5,7],[3,8],[6,9],[8,9],[9,11],[10,12],[5,12],[6,13],[8,14],[13,15] ] #new test\n",
    "activities = sorted(activities, key = lambda x:x[0]) #sort the activities based on starting time\n",
    "\n",
    "\n",
    "N = len(activities)\n",
    "C = [[0 for _ in range(N)] for i  in range(N)] # number of activities between activity i and j, not include (i,j)\n",
    "actList = [[[] for x in range(N)] for i  in range(N)] #activities between activity i and j, not include (i,j)\n",
    "\n",
    "for k in range(1,N-1):\n",
    "    for i in range(k-1,-1,-1):\n",
    "        for j in range (k+1,N):\n",
    "            if (activities[k][0]>activities[i][1]) and (activities[k][1]<activities[j][0]):\n",
    "                if C[i][k] + C[k][j] +1 > C[i][j]:\n",
    "                    C[i][j] =C[i][k] + C[k][j] + 1 \n",
    "                    actList[i][j] =  actList[i][k] + [k]+ actList[k][j] \n",
    "\n",
    "#Add the first and last activity to construct solution\n",
    "for i in range(N-1):\n",
    "    for j in range(i+1,N):\n",
    "        if activities[i][1] < activities[j][0]:\n",
    "            actList[i][j] = [i] + actList[i][j] + [j]\n",
    "            C[i][j] += 2\n",
    "\n",
    "print(actList[0][N-1])\n",
    "print(C[0][N-1])\n",
    "result = actList[0][N-1]\n",
    "print(\"Solution:\")\n",
    "for act in result:\n",
    "    print(activities[act])\n",
    "\n",
    "\n"
   ]
  },
  {
   "cell_type": "markdown",
   "id": "9c64f77d",
   "metadata": {},
   "source": [
    "***"
   ]
  },
  {
   "cell_type": "markdown",
   "id": "0ddf024b",
   "metadata": {},
   "source": [
    "### Section 3: Huffman Coding"
   ]
  },
  {
   "cell_type": "code",
   "execution_count": 11,
   "id": "82f0ad8e",
   "metadata": {},
   "outputs": [],
   "source": [
    "class node:\n",
    "    \n",
    "    def __init__(self, freq, symbol, left=None, right=None):\n",
    "        \n",
    "        self.freq = freq\n",
    "        self.symbol = symbol\n",
    " \n",
    "        self.left = left\n",
    "        self.right = right\n",
    " \n",
    "        self.val = ''"
   ]
  },
  {
   "cell_type": "code",
   "execution_count": 12,
   "id": "5a7cd0dd",
   "metadata": {},
   "outputs": [],
   "source": [
    "letters = ['A', 'B', 'C', 'D', 'E', 'F']\n",
    " \n",
    "frequency = [45, 13, 12, 16, 9, 5]\n",
    "\n",
    "# Let us make use of list to store nodes\n",
    " \n",
    "nodes = []\n",
    " \n",
    "# Put all the nodes in the list first\n",
    "\n",
    "for x in range(len(letters)):\n",
    "    \n",
    "    nodes.append(node(frequency[x], letters[x]))"
   ]
  },
  {
   "cell_type": "markdown",
   "id": "a06e3471",
   "metadata": {},
   "source": [
    "Time to build the tree"
   ]
  },
  {
   "cell_type": "code",
   "execution_count": 13,
   "id": "b4ac7dc0",
   "metadata": {},
   "outputs": [],
   "source": [
    "while len(nodes) > 1:\n",
    "    \n",
    "    # We need to sort the nodes based on the value of the frequency-field\n",
    "    nodes = sorted(nodes, key=lambda x: x.freq)\n",
    " \n",
    "    # The following two nodes are the smallest, let us call them S1 and S2\n",
    "\n",
    "    S1 = nodes[0]\n",
    "    S2 = nodes[1]\n",
    " \n",
    "    S1.val = 0\n",
    "    S2.val = 1\n",
    "\n",
    "    # make the super node\n",
    "    \n",
    "    S12 = node(S1.freq + S2.freq, S1.symbol + S2.symbol, S1, S2)\n",
    " \n",
    "    # remove the two nodes from our consideration next\n",
    "    \n",
    "    nodes.remove(S1)\n",
    "    nodes.remove(S2)\n",
    "    \n",
    "    nodes.append(S12)"
   ]
  },
  {
   "cell_type": "markdown",
   "id": "b3383e7f",
   "metadata": {},
   "source": [
    "Okay, now we have built the tree, let us display the codes. Note, we will have to recursively traverse the tree"
   ]
  },
  {
   "cell_type": "code",
   "execution_count": 14,
   "id": "c313636c",
   "metadata": {},
   "outputs": [],
   "source": [
    "def printCode(node, val=''):\n",
    "    \n",
    "    code = val + str(node.val)\n",
    "\n",
    "    if node.left:\n",
    "        printCode(node.left, code)\n",
    "        \n",
    "    if node.right:\n",
    "        printCode(node.right, code)    \n",
    "        \n",
    "    if not (node.left and node.right):\n",
    "        print('Letter = {}, Code = {}, value = {}'.format(node.symbol, code,node.freq))"
   ]
  },
  {
   "cell_type": "code",
   "execution_count": 15,
   "id": "e72efdba",
   "metadata": {},
   "outputs": [
    {
     "name": "stdout",
     "output_type": "stream",
     "text": [
      "Letter = A, Code = 0, value = 45\n",
      "Letter = C, Code = 100, value = 12\n",
      "Letter = B, Code = 101, value = 13\n",
      "Letter = F, Code = 1100, value = 5\n",
      "Letter = E, Code = 1101, value = 9\n",
      "Letter = D, Code = 111, value = 16\n"
     ]
    }
   ],
   "source": [
    "printCode(nodes[0])"
   ]
  },
  {
   "cell_type": "markdown",
   "id": "leading-intensity",
   "metadata": {},
   "source": [
    "### <font color='red'> Activity 3: Code Reflections. </font>"
   ]
  },
  {
   "cell_type": "code",
   "execution_count": 16,
   "id": "62b47971",
   "metadata": {},
   "outputs": [],
   "source": [
    "def buildPrefixTree(nodes):\n",
    "    while len(nodes) > 1:\n",
    "    \n",
    "        # We need to sort the nodes based on the value of the frequency-field\n",
    "        nodes = sorted(nodes, key=lambda x: x.freq)\n",
    "    \n",
    "        # The following two nodes are the smallest, let us call them S1 and S2\n",
    "\n",
    "        S1 = nodes[0]\n",
    "        S2 = nodes[1]\n",
    "    \n",
    "        S1.val = 0\n",
    "        S2.val = 1\n",
    "\n",
    "        # make the super node\n",
    "        \n",
    "        S12 = node(S1.freq + S2.freq, S1.symbol + S2.symbol, S1, S2)\n",
    "        # print(S12.symbol)\n",
    "        # remove the two nodes from our consideration next\n",
    "        \n",
    "        nodes.remove(S1)\n",
    "        nodes.remove(S2)\n",
    "        \n",
    "        nodes.append(S12)\n",
    "    return nodes"
   ]
  },
  {
   "cell_type": "code",
   "execution_count": 17,
   "id": "68e9391d",
   "metadata": {},
   "outputs": [
    {
     "name": "stdout",
     "output_type": "stream",
     "text": [
      "Letter = E, Code = 000, value = 9\n",
      "Letter = P, Code = 0010, value = 4\n",
      "Letter = F, Code = 0011, value = 5\n",
      "Letter = C, Code = 010, value = 12\n",
      "Letter = B, Code = 011, value = 13\n",
      "Letter = A, Code = 10, value = 28\n",
      "Letter = N, Code = 1100, value = 6\n",
      "Letter = M, Code = 1101, value = 7\n",
      "Letter = D, Code = 111, value = 16\n"
     ]
    }
   ],
   "source": [
    "\n",
    "\n",
    "letters = ['A', 'B', 'C', 'D', 'E', 'F','M','N','P']\n",
    " \n",
    "frequency = [28, 13, 12, 16, 9, 5,7,6,4]\n",
    "nodes = []\n",
    "for i in range(len(letters)):\n",
    "    nodes.append(node(frequency[i],letters[i]))\n",
    "\n",
    "nodes = buildPrefixTree(nodes)\n",
    "\n",
    "printCode(nodes[0])"
   ]
  },
  {
   "cell_type": "code",
   "execution_count": 18,
   "id": "baa5cbb0",
   "metadata": {},
   "outputs": [],
   "source": [
    "def printTree(x):\n",
    "    if x == None:\n",
    "        return\n",
    "    print(x.symbol, x.val)\n",
    "    printTree(x.left)\n",
    "    printTree(x.right)"
   ]
  },
  {
   "cell_type": "code",
   "execution_count": 19,
   "id": "victorian-defense",
   "metadata": {},
   "outputs": [
    {
     "name": "stdout",
     "output_type": "stream",
     "text": [
      "EPFCBANMD \n",
      "EPFCB 0\n",
      "EPF 0\n",
      "E 0\n",
      "PF 1\n",
      "P 0\n",
      "F 1\n",
      "CB 1\n",
      "C 0\n",
      "B 1\n",
      "ANMD 1\n",
      "A 0\n",
      "NMD 1\n",
      "NM 0\n",
      "N 0\n",
      "M 1\n",
      "D 1\n"
     ]
    }
   ],
   "source": [
    "x = nodes[0]\n",
    "printTree(x)"
   ]
  },
  {
   "cell_type": "markdown",
   "id": "6570890e",
   "metadata": {},
   "source": [
    "***"
   ]
  },
  {
   "cell_type": "markdown",
   "id": "6e92fc09",
   "metadata": {},
   "source": [
    "### <font color='red'> Section 4: Prim's Algorithm. </font>"
   ]
  },
  {
   "cell_type": "markdown",
   "id": "ce467019",
   "metadata": {},
   "source": [
    "Graph's Preliminaries"
   ]
  },
  {
   "cell_type": "code",
   "execution_count": 20,
   "id": "4cdc7ece",
   "metadata": {},
   "outputs": [],
   "source": [
    "from graph import *"
   ]
  },
  {
   "cell_type": "code",
   "execution_count": 21,
   "id": "a75ba3ec",
   "metadata": {},
   "outputs": [],
   "source": [
    "G = Graph()\n",
    "\n",
    "for i in ['A', 'B', 'C', 'D', 'E', 'F', 'G', 'H', 'I']:\n",
    "    G.addVertex( Node(i) )"
   ]
  },
  {
   "cell_type": "code",
   "execution_count": 22,
   "id": "c990d75e",
   "metadata": {},
   "outputs": [],
   "source": [
    "V = G.vertices\n",
    "\n",
    "#0, 1, 2, 3, 4, 5, 6, 7, 8\n",
    "#A, B, C, D, E, F, G, H, I\n",
    "\n",
    "G.addBiEdge( V[0], V[1], 4)\n",
    "\n",
    "G.addBiEdge( V[0], V[7] , 8)\n",
    "\n",
    "G.addBiEdge( V[1], V[7], 11)\n",
    "\n",
    "G.addBiEdge( V[1], V[2], 8)\n",
    "\n",
    "G.addBiEdge( V[2], V[3], 7)\n",
    "\n",
    "G.addBiEdge( V[3], V[4], 9)\n",
    "\n",
    "G.addBiEdge( V[3], V[5], 14 )\n",
    "\n",
    "G.addBiEdge( V[4], V[5], 10 )\n",
    "\n",
    "G.addBiEdge( V[2], V[5], 4 )\n",
    "\n",
    "G.addBiEdge( V[2], V[8], 2 )\n",
    "\n",
    "G.addBiEdge( V[5], V[6], 2 )\n",
    "\n",
    "G.addBiEdge( V[6], V[7], 1 )\n",
    "\n",
    "G.addBiEdge( V[6], V[8], 6 )\n",
    "\n",
    "G.addBiEdge( V[7], V[8], 7 )\n"
   ]
  },
  {
   "cell_type": "code",
   "execution_count": 23,
   "id": "2ac81f26",
   "metadata": {},
   "outputs": [
    {
     "name": "stdout",
     "output_type": "stream",
     "text": [
      "Graph with:\n",
      "\t Vertices:\n",
      "\tA,B,C,D,E,F,G,H,I,\n",
      "\t Edges:\n",
      "\t(A,(<graph.Node object at 0x7fc46111c100>, 4)) (A,(<graph.Node object at 0x7fc46111c670>, 8)) (B,(<graph.Node object at 0x7fc46111cdf0>, 4)) (B,(<graph.Node object at 0x7fc46111c670>, 11)) (B,(<graph.Node object at 0x7fc46111cc10>, 8)) (C,(<graph.Node object at 0x7fc46111c100>, 8)) (C,(<graph.Node object at 0x7fc46111c640>, 7)) (C,(<graph.Node object at 0x7fc46111c310>, 4)) (C,(<graph.Node object at 0x7fc46111c5e0>, 2)) (D,(<graph.Node object at 0x7fc46111cc10>, 7)) (D,(<graph.Node object at 0x7fc46111ca00>, 9)) (D,(<graph.Node object at 0x7fc46111c310>, 14)) (E,(<graph.Node object at 0x7fc46111c640>, 9)) (E,(<graph.Node object at 0x7fc46111c310>, 10)) (F,(<graph.Node object at 0x7fc46111c640>, 14)) (F,(<graph.Node object at 0x7fc46111ca00>, 10)) (F,(<graph.Node object at 0x7fc46111cc10>, 4)) (F,(<graph.Node object at 0x7fc46111c250>, 2)) (G,(<graph.Node object at 0x7fc46111c310>, 2)) (G,(<graph.Node object at 0x7fc46111c670>, 1)) (G,(<graph.Node object at 0x7fc46111c5e0>, 6)) (H,(<graph.Node object at 0x7fc46111cdf0>, 8)) (H,(<graph.Node object at 0x7fc46111c100>, 11)) (H,(<graph.Node object at 0x7fc46111c250>, 1)) (H,(<graph.Node object at 0x7fc46111c5e0>, 7)) (I,(<graph.Node object at 0x7fc46111cc10>, 2)) (I,(<graph.Node object at 0x7fc46111c250>, 6)) (I,(<graph.Node object at 0x7fc46111c670>, 7)) \n",
      "\n"
     ]
    }
   ],
   "source": [
    "print(G)"
   ]
  },
  {
   "cell_type": "markdown",
   "id": "10941ad1",
   "metadata": {},
   "source": [
    "This is what we had in the lectures as the slow implementation of Prim's Algorithm"
   ]
  },
  {
   "cell_type": "code",
   "execution_count": 24,
   "id": "c75594c0",
   "metadata": {},
   "outputs": [],
   "source": [
    "# G is graph\n",
    "# s is the node to start\n",
    "\n",
    "def slowPrim(G, s):\n",
    "    \n",
    "    # first, find the lightest edge leaving s\n",
    "    bestWt = np.inf\n",
    "    bestu = None\n",
    "    \n",
    "    for u,wt in s.getOutNeighborsWithWeights():\n",
    "        \n",
    "        if wt < bestWt:\n",
    "            bestWt = wt\n",
    "            bestu = u\n",
    "    \n",
    "    MST = [ (s, bestu,bestWt) ]\n",
    "    verticesVisited = [s,bestu]\n",
    "    \n",
    "    while len(verticesVisited) < len(G.vertices): # danger! this will loop forever if the graph isn't connected...\n",
    "        \n",
    "        # find the lightest edge (x,v) so that x has been visited and v hasn't.\n",
    "        bestWt = np.inf\n",
    "        bestv = None\n",
    "        bestx = None\n",
    "        \n",
    "        for x in verticesVisited:\n",
    "            for v,wt in x.getOutNeighborsWithWeights():\n",
    "                \n",
    "                if v in verticesVisited:\n",
    "                    continue\n",
    "                \n",
    "                if wt < bestWt:\n",
    "                    bestWt = wt\n",
    "                    bestv = v\n",
    "                    bestx = x\n",
    "                    \n",
    "        MST.append((bestx,bestv,bestWt))\n",
    "        verticesVisited.append(bestv)\n",
    "    \n",
    "    return MST"
   ]
  },
  {
   "cell_type": "code",
   "execution_count": 25,
   "id": "f6ff20d2",
   "metadata": {},
   "outputs": [
    {
     "name": "stdout",
     "output_type": "stream",
     "text": [
      "A B\n",
      "A H\n",
      "H G\n",
      "G F\n",
      "F C\n",
      "C I\n",
      "C D\n",
      "D E\n",
      "37\n"
     ]
    }
   ],
   "source": [
    "T = slowPrim(G, G.vertices[0])\n",
    "sum = 0\n",
    "for x,y,wt in T:\n",
    "    print(x,y)\n",
    "    sum += wt\n",
    "\n",
    "print(sum)"
   ]
  },
  {
   "cell_type": "markdown",
   "id": "3f2b31e2",
   "metadata": {},
   "source": [
    "Okay, it seems to be working fine, but as we discussed, will be quite slow. Let us see if we can work on the faster version of the code as:"
   ]
  },
  {
   "cell_type": "code",
   "execution_count": 26,
   "id": "e32585d1",
   "metadata": {},
   "outputs": [],
   "source": [
    "def prim(G,w):\n",
    "    \n",
    "    for v in G.vertices:\n",
    "        v.estD = np.inf\n",
    "    \n",
    "    w.estD = 0\n",
    "    MST = []\n",
    "    unvisitedVertices = heapdict.heapdict()\n",
    "    \n",
    "    for v in G.vertices:\n",
    "        unvisitedVertices[v] = v.estD\n",
    "    \n",
    "    while len(unvisitedVertices) > 0:\n",
    "        \n",
    "        # find the u with the minimum estD, using the heap\n",
    "        u, dist = unvisitedVertices.popitem() \n",
    "        if u.estD == np.inf:\n",
    "            # then there is nothing more that I can reach; this shouldn't happen if the graph is connected\n",
    "            return \"Graph disconnected :(\"\n",
    "        \n",
    "        # add u to the MST\n",
    "        if u.parent != None:  # don't do it for the first vertex\n",
    "            MST.append((u.parent,u,dist))\n",
    "        \n",
    "        # update u's neighbors\n",
    "        for v,wt in u.getOutNeighborsWithWeights():\n",
    "            if v in unvisitedVertices:\n",
    "                if wt < v.estD:\n",
    "                    v.estD = wt\n",
    "                    unvisitedVertices[v] =  wt #update the key in the heapdict\n",
    "                    v.parent = u # v points to u now\n",
    "                    \n",
    "    return MST"
   ]
  },
  {
   "cell_type": "code",
   "execution_count": 27,
   "id": "e6c07571",
   "metadata": {},
   "outputs": [
    {
     "name": "stdout",
     "output_type": "stream",
     "text": [
      "A B\n",
      "B C\n",
      "C I\n",
      "C F\n",
      "F G\n",
      "G H\n",
      "C D\n",
      "D E\n",
      "37\n"
     ]
    }
   ],
   "source": [
    "T = prim(G, G.vertices[0])\n",
    "cost  = 0\n",
    "for x,y,wt in T:\n",
    "    print(x,y)\n",
    "    cost += wt\n",
    "\n",
    "print(cost)"
   ]
  },
  {
   "cell_type": "markdown",
   "id": "creative-constitutional",
   "metadata": {},
   "source": [
    "### <font color='red'> Activity 4: Code Reflections. </font>"
   ]
  },
  {
   "cell_type": "code",
   "execution_count": 28,
   "id": "8fd42b8b",
   "metadata": {},
   "outputs": [
    {
     "name": "stdout",
     "output_type": "stream",
     "text": [
      "C D\n",
      "D C\n",
      "C I\n",
      "C F\n",
      "F G\n",
      "G H\n",
      "H A\n",
      "A B\n",
      "D E\n",
      "37\n"
     ]
    }
   ],
   "source": [
    "T = prim(G, G.vertices[3])\n",
    "cost  = 0\n",
    "for x,y,wt in T:\n",
    "    print(x,y)\n",
    "    cost += wt\n",
    "\n",
    "print(cost)"
   ]
  },
  {
   "cell_type": "markdown",
   "id": "cc0f5215",
   "metadata": {},
   "source": [
    "***"
   ]
  },
  {
   "cell_type": "markdown",
   "id": "42212e3d",
   "metadata": {},
   "source": [
    "### <font color='red'> Activity 5: In lights of Prim's Algorithm that you developed above, make your best effort to implement Kruskal's Algorithm. </font>"
   ]
  },
  {
   "cell_type": "code",
   "execution_count": 29,
   "id": "8825b53e",
   "metadata": {},
   "outputs": [],
   "source": [
    "G = Graph()\n",
    "\n",
    "for i in ['A', 'B', 'C', 'D', 'E', 'F', 'G', 'H', 'I']:\n",
    "    G.addVertex( Node(i) )"
   ]
  },
  {
   "cell_type": "code",
   "execution_count": 30,
   "id": "31494f9c",
   "metadata": {},
   "outputs": [],
   "source": [
    "V = G.vertices\n",
    "\n",
    "#0, 1, 2, 3, 4, 5, 6, 7, 8\n",
    "#A, B, C, D, E, F, G, H, I\n",
    "\n",
    "G.addBiEdge( V[0], V[1], 4)\n",
    "\n",
    "G.addBiEdge( V[0], V[7] , 8)\n",
    "\n",
    "G.addBiEdge( V[1], V[7], 11)\n",
    "\n",
    "G.addBiEdge( V[1], V[2], 8)\n",
    "\n",
    "G.addBiEdge( V[2], V[3], 7)\n",
    "\n",
    "G.addBiEdge( V[3], V[4], 9)\n",
    "\n",
    "G.addBiEdge( V[3], V[5], 14 )\n",
    "\n",
    "G.addBiEdge( V[4], V[5], 10 )\n",
    "\n",
    "G.addBiEdge( V[2], V[5], 4 )\n",
    "\n",
    "G.addBiEdge( V[2], V[8], 2 )\n",
    "\n",
    "G.addBiEdge( V[5], V[6], 2 )\n",
    "\n",
    "G.addBiEdge( V[6], V[7], 1 )\n",
    "\n",
    "G.addBiEdge( V[6], V[8], 6 )\n",
    "\n",
    "G.addBiEdge( V[7], V[8], 7 )\n"
   ]
  },
  {
   "cell_type": "code",
   "execution_count": 31,
   "id": "40c3eb07",
   "metadata": {},
   "outputs": [
    {
     "name": "stdout",
     "output_type": "stream",
     "text": [
      "H\n"
     ]
    }
   ],
   "source": [
    "E = G.getDirEdges()\n",
    "\n",
    "E = sorted(E, key = lambda x:x[1][1])\n",
    "print(E[0][1][0])\n"
   ]
  },
  {
   "cell_type": "code",
   "execution_count": 32,
   "id": "9002582f",
   "metadata": {},
   "outputs": [],
   "source": [
    "\n",
    "#### TODO ####\n",
    "### Good Luck ###\n",
    "def findSet(parent, v):\n",
    "    while(parent[v] != v ):\n",
    "        v = parent[v]\n",
    "    return v\n",
    "\n",
    "def DSU(parent,u,v):\n",
    "    u = findSet(parent,u)\n",
    "    v = findSet(parent,v)\n",
    "    parent[u] = v\n",
    "    return\n",
    "def Kruskal(G):\n",
    "    parent = {}\n",
    "    MST = []\n",
    "    for v in G.vertices:\n",
    "        parent[v] = v\n",
    "    E = G.getDirEdges()\n",
    "    E = sorted(E, key = lambda x:x[1][1])\n",
    "    # print(E)\n",
    "    for i in range(len(E)):\n",
    "        u = E[i][0]\n",
    "        v = E[i][1][0]\n",
    "        wt = E[i][1][1]\n",
    "        # print(i,u,v,wt)\n",
    "        if (findSet(parent,u) != findSet(parent,v)):\n",
    "            MST.append((u,v,wt))\n",
    "            # print(\"parent: \", parent[u], parent[v])\n",
    "            DSU(parent,u,v)\n",
    "            # print(\"parent: \", parent[u], parent[v])\n",
    "\n",
    "\n",
    "    return MST\n",
    "\n",
    "\n",
    "\n",
    "\n",
    "\n",
    "\n"
   ]
  },
  {
   "cell_type": "markdown",
   "id": "79cfe7ab",
   "metadata": {},
   "source": [
    "***"
   ]
  },
  {
   "cell_type": "markdown",
   "id": "eba29d78",
   "metadata": {},
   "source": []
  },
  {
   "cell_type": "code",
   "execution_count": 33,
   "id": "0e340077",
   "metadata": {},
   "outputs": [
    {
     "name": "stdout",
     "output_type": "stream",
     "text": [
      "G H\n",
      "C I\n",
      "F G\n",
      "A B\n",
      "C F\n",
      "C D\n",
      "A H\n",
      "D E\n",
      "37\n"
     ]
    }
   ],
   "source": [
    "T = Kruskal(G)\n",
    "sum = 0\n",
    "for x,y,wt in T:\n",
    "    print(x,y)\n",
    "    sum += wt\n",
    "\n",
    "print(sum)\n"
   ]
  }
 ],
 "metadata": {
  "kernelspec": {
   "display_name": "Python 3.9.12 ('sit320')",
   "language": "python",
   "name": "python3"
  },
  "language_info": {
   "codemirror_mode": {
    "name": "ipython",
    "version": 3
   },
   "file_extension": ".py",
   "mimetype": "text/x-python",
   "name": "python",
   "nbconvert_exporter": "python",
   "pygments_lexer": "ipython3",
   "version": "3.9.12"
  },
  "vscode": {
   "interpreter": {
    "hash": "56e6bb6427519132123cd815ae54e5a1ae8039f336ade0a430b8c4660a822be6"
   }
  }
 },
 "nbformat": 4,
 "nbformat_minor": 5
}
