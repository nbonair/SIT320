{
 "cells": [
  {
   "cell_type": "markdown",
   "id": "imposed-playlist",
   "metadata": {},
   "source": [
    "# Lab 3b: Graphs II"
   ]
  },
  {
   "cell_type": "markdown",
   "id": "d97cce87",
   "metadata": {},
   "source": [
    "Lab associated with Module 3b: Graphs II"
   ]
  },
  {
   "cell_type": "markdown",
   "id": "5c7f2e9d",
   "metadata": {},
   "source": [
    "***"
   ]
  },
  {
   "cell_type": "code",
   "execution_count": 76,
   "id": "5b495ad0",
   "metadata": {},
   "outputs": [
    {
     "name": "stderr",
     "output_type": "stream",
     "text": [
      "/var/folders/kq/6dfzrrz513q5bs2h61zv5g2r0000gn/T/ipykernel_2375/1945220536.py:2: DeprecationWarning: Importing display from IPython.core.display is deprecated since IPython 7.14, please import from IPython display\n",
      "  from IPython.core.display import display, HTML\n"
     ]
    },
    {
     "data": {
      "text/html": [
       "<style>.container { width:95% !important; }</style>"
      ],
      "text/plain": [
       "<IPython.core.display.HTML object>"
      ]
     },
     "metadata": {},
     "output_type": "display_data"
    }
   ],
   "source": [
    "# The following lines are used to increase the width of cells to utilize more space on the screen \n",
    "from IPython.core.display import display, HTML\n",
    "display(HTML(\"<style>.container { width:95% !important; }</style>\"))"
   ]
  },
  {
   "cell_type": "markdown",
   "id": "3a2b855c",
   "metadata": {},
   "source": [
    "***"
   ]
  },
  {
   "cell_type": "markdown",
   "id": "9d0921a0",
   "metadata": {},
   "source": [
    "### Section 0: Imports"
   ]
  },
  {
   "cell_type": "code",
   "execution_count": 77,
   "id": "477622d5",
   "metadata": {},
   "outputs": [],
   "source": [
    "import numpy as np"
   ]
  },
  {
   "cell_type": "code",
   "execution_count": 78,
   "id": "50fb5ed5",
   "metadata": {},
   "outputs": [],
   "source": [
    "import math"
   ]
  },
  {
   "cell_type": "code",
   "execution_count": 79,
   "id": "965de108",
   "metadata": {},
   "outputs": [],
   "source": [
    "from IPython.display import Image\n",
    "from graphviz import Digraph"
   ]
  },
  {
   "cell_type": "markdown",
   "id": "214d69eb",
   "metadata": {},
   "source": [
    "Details of Digraph package: https://h1ros.github.io/posts/introduction-to-graphviz-in-jupyter-notebook/"
   ]
  },
  {
   "cell_type": "markdown",
   "id": "7f9321f8",
   "metadata": {},
   "source": [
    "***"
   ]
  },
  {
   "cell_type": "markdown",
   "id": "317d9bca",
   "metadata": {},
   "source": [
    "### Section 1: Graph Preliminaries"
   ]
  },
  {
   "cell_type": "markdown",
   "id": "cc820c0e",
   "metadata": {},
   "source": [
    "Let us start by implementing our Node and Graph data structure to incorporate weights in the graph"
   ]
  },
  {
   "cell_type": "code",
   "execution_count": 80,
   "id": "d8e6550f",
   "metadata": {},
   "outputs": [],
   "source": [
    "class Node:\n",
    "    \n",
    "    def __init__(self, v):\n",
    "\n",
    "        self.value = v\n",
    "        self.inNeighbors = []\n",
    "        self.outNeighbors = []\n",
    "        \n",
    "        self.status = \"unvisited\"\n",
    "        self.estD = np.inf\n",
    "        \n",
    "    def hasOutNeighbor(self, v):\n",
    "        \n",
    "        if v in self.outNeighbors:\n",
    "            return True\n",
    "        \n",
    "        return False\n",
    "        \n",
    "    def hasInNeighbor(self, v):\n",
    "        \n",
    "        if v in self.inNeighbors:\n",
    "            return True\n",
    "        \n",
    "        return False\n",
    "    \n",
    "    def hasNeighbor(self, v):\n",
    "        \n",
    "        if v in self.inNeighbors or v in self.outNeighbors:\n",
    "            return True\n",
    "        \n",
    "        return False\n",
    "    \n",
    "    def getOutNeighbors(self):\n",
    "        \n",
    "        return self.outNeighbors\n",
    "    \n",
    "    def getInNeighbors(self):\n",
    "        \n",
    "        return self.inNeighbors\n",
    "    \n",
    "    def getOutNeighborsWithWeights(self):\n",
    "        \n",
    "        return self.outNeighbors\n",
    "    \n",
    "    def getInNeighborsWithWeights(self):\n",
    "        \n",
    "        return self.inNeighbors\n",
    "    \n",
    "    # ------------------------------------------------\n",
    "    # Let us modify following two functions to incorporate weights\n",
    "    # ------------------------------------------------\n",
    "    \n",
    "    def addOutNeighbor(self,v,wt):\n",
    "        \n",
    "        self.outNeighbors.append((v,wt))\n",
    "    \n",
    "    def addInNeighbor(self,v,wt):\n",
    "        \n",
    "        self.inNeighbors.append((v,wt))\n",
    "        \n",
    "        \n",
    "    def __str__(self):\n",
    "        \n",
    "        return str(self.value) "
   ]
  },
  {
   "cell_type": "code",
   "execution_count": 81,
   "id": "30ab4c32",
   "metadata": {},
   "outputs": [],
   "source": [
    "class Graph:\n",
    "    \n",
    "    def __init__(self):\n",
    "        \n",
    "        self.vertices = []\n",
    "\n",
    "    def addVertex(self,n):\n",
    "        \n",
    "        self.vertices.append(n)\n",
    "        \n",
    "    # ------------------------------------------------\n",
    "    # Let us modify following two functions to incorporate weights\n",
    "    # ------------------------------------------------\n",
    "        \n",
    "    def addDiEdge(self, u, v, wt = 1):\n",
    "        \n",
    "        u.addOutNeighbor(v, wt = wt)\n",
    "        v.addInNeighbor(u, wt = wt)\n",
    "        \n",
    "    # add edges in both directions between u and v\n",
    "    def addBiEdge(self, u, v, wt = 1):\n",
    "        \n",
    "        self.addDiEdge(u, v, wt = wt)\n",
    "        self.addDiEdge(v, u, wt = wt)\n",
    "        \n",
    "            \n",
    "    # get a list of all the directed edges\n",
    "    # directed edges are a list of two vertices\n",
    "    def getDirEdges(self):\n",
    "        \n",
    "        ret = []\n",
    "        for v in self.vertices:\n",
    "            ret += [ [v, u] for u in v.outNeighbors ]\n",
    "        return ret\n",
    "    \n",
    "    # reverse the edge between u and v.  Multiple edges are not supported.\n",
    "    def reverseEdge(self,u,v):\n",
    "        \n",
    "        if u.hasOutNeighbor(v) and v.hasInNeighbor(u):\n",
    "            \n",
    "            if v.hasOutNeighbor(u) and u.hasInNeighbor(v): \n",
    "                return\n",
    "        \n",
    "            self.addDiEdge(v, u)\n",
    "            u.outNeighbors.remove(v)\n",
    "            v.inNeighbors.remove(u)        \n",
    "                \n",
    "    def __str__(self):\n",
    "        \n",
    "        ret = \"Graph with:\\n\"\n",
    "        ret += \"\\t Vertices:\\n\\t\"\n",
    "        for v in self.vertices:\n",
    "            ret += str(v.value) + \",\"\n",
    "        ret += \"\\n\"\n",
    "        ret += \"\\t Edges:\\n\\t\"\n",
    "        for a,b in self.getDirEdges():\n",
    "            ret += \"(\" + str(a) + \",\" + str(b) + \") \"\n",
    "        ret += \"\\n\"\n",
    "        return ret"
   ]
  },
  {
   "cell_type": "markdown",
   "id": "7afa81de",
   "metadata": {},
   "source": [
    "Now that we have incorporated the weights, let us devise a plan to generate the graph"
   ]
  },
  {
   "cell_type": "code",
   "execution_count": 82,
   "id": "d3a8a344",
   "metadata": {},
   "outputs": [
    {
     "data": {
      "image/svg+xml": "<?xml version=\"1.0\" encoding=\"UTF-8\" standalone=\"no\"?>\n<!DOCTYPE svg PUBLIC \"-//W3C//DTD SVG 1.1//EN\"\n \"http://www.w3.org/Graphics/SVG/1.1/DTD/svg11.dtd\">\n<!-- Generated by graphviz version 2.50.0 (0)\n -->\n<!-- Pages: 1 -->\n<svg width=\"117pt\" height=\"404pt\"\n viewBox=\"0.00 0.00 117.00 404.00\" xmlns=\"http://www.w3.org/2000/svg\" xmlns:xlink=\"http://www.w3.org/1999/xlink\">\n<g id=\"graph0\" class=\"graph\" transform=\"scale(1 1) rotate(0) translate(4 400)\">\n<polygon fill=\"white\" stroke=\"transparent\" points=\"-4,4 -4,-400 113,-400 113,4 -4,4\"/>\n<!-- S -->\n<g id=\"node1\" class=\"node\">\n<title>S</title>\n<ellipse fill=\"none\" stroke=\"black\" cx=\"54\" cy=\"-378\" rx=\"27\" ry=\"18\"/>\n<text text-anchor=\"middle\" x=\"54\" y=\"-374.3\" font-family=\"Times,serif\" font-size=\"14.00\">S</text>\n</g>\n<!-- E -->\n<g id=\"node2\" class=\"node\">\n<title>E</title>\n<ellipse fill=\"none\" stroke=\"black\" cx=\"27\" cy=\"-306\" rx=\"27\" ry=\"18\"/>\n<text text-anchor=\"middle\" x=\"27\" y=\"-302.3\" font-family=\"Times,serif\" font-size=\"14.00\">E</text>\n</g>\n<!-- S&#45;&gt;E -->\n<g id=\"edge1\" class=\"edge\">\n<title>S&#45;&gt;E</title>\n<path fill=\"none\" stroke=\"black\" d=\"M47.6,-360.41C44.49,-352.34 40.67,-342.43 37.17,-333.35\"/>\n<polygon fill=\"black\" stroke=\"black\" points=\"40.4,-332.03 33.54,-323.96 33.87,-334.55 40.4,-332.03\"/>\n</g>\n<!-- A -->\n<g id=\"node3\" class=\"node\">\n<title>A</title>\n<ellipse fill=\"none\" stroke=\"black\" cx=\"82\" cy=\"-162\" rx=\"27\" ry=\"18\"/>\n<text text-anchor=\"middle\" x=\"82\" y=\"-158.3\" font-family=\"Times,serif\" font-size=\"14.00\">A</text>\n</g>\n<!-- S&#45;&gt;A -->\n<g id=\"edge2\" class=\"edge\">\n<title>S&#45;&gt;A</title>\n<path fill=\"none\" stroke=\"black\" d=\"M57.14,-359.85C58.98,-349.49 61.27,-336.01 63,-324 69.73,-277.2 75.81,-222.48 79.19,-190.4\"/>\n<polygon fill=\"black\" stroke=\"black\" points=\"82.68,-190.74 80.24,-180.43 75.72,-190.01 82.68,-190.74\"/>\n</g>\n<!-- D -->\n<g id=\"node4\" class=\"node\">\n<title>D</title>\n<ellipse fill=\"none\" stroke=\"black\" cx=\"27\" cy=\"-234\" rx=\"27\" ry=\"18\"/>\n<text text-anchor=\"middle\" x=\"27\" y=\"-230.3\" font-family=\"Times,serif\" font-size=\"14.00\">D</text>\n</g>\n<!-- E&#45;&gt;D -->\n<g id=\"edge3\" class=\"edge\">\n<title>E&#45;&gt;D</title>\n<path fill=\"none\" stroke=\"black\" d=\"M27,-287.7C27,-279.98 27,-270.71 27,-262.11\"/>\n<polygon fill=\"black\" stroke=\"black\" points=\"30.5,-262.1 27,-252.1 23.5,-262.1 30.5,-262.1\"/>\n</g>\n<!-- C -->\n<g id=\"node5\" class=\"node\">\n<title>C</title>\n<ellipse fill=\"none\" stroke=\"black\" cx=\"27\" cy=\"-90\" rx=\"27\" ry=\"18\"/>\n<text text-anchor=\"middle\" x=\"27\" y=\"-86.3\" font-family=\"Times,serif\" font-size=\"14.00\">C</text>\n</g>\n<!-- A&#45;&gt;C -->\n<g id=\"edge5\" class=\"edge\">\n<title>A&#45;&gt;C</title>\n<path fill=\"none\" stroke=\"black\" d=\"M70.07,-145.81C62.79,-136.55 53.34,-124.52 45.15,-114.09\"/>\n<polygon fill=\"black\" stroke=\"black\" points=\"47.84,-111.86 38.91,-106.16 42.34,-116.18 47.84,-111.86\"/>\n</g>\n<!-- D&#45;&gt;A -->\n<g id=\"edge4\" class=\"edge\">\n<title>D&#45;&gt;A</title>\n<path fill=\"none\" stroke=\"black\" d=\"M38.93,-217.81C46.21,-208.55 55.66,-196.52 63.85,-186.09\"/>\n<polygon fill=\"black\" stroke=\"black\" points=\"66.66,-188.18 70.09,-178.16 61.16,-183.86 66.66,-188.18\"/>\n</g>\n<!-- D&#45;&gt;C -->\n<g id=\"edge7\" class=\"edge\">\n<title>D&#45;&gt;C</title>\n<path fill=\"none\" stroke=\"black\" d=\"M27,-215.87C27,-191.67 27,-147.21 27,-118.39\"/>\n<polygon fill=\"black\" stroke=\"black\" points=\"30.5,-118.19 27,-108.19 23.5,-118.19 30.5,-118.19\"/>\n</g>\n<!-- B -->\n<g id=\"node6\" class=\"node\">\n<title>B</title>\n<ellipse fill=\"none\" stroke=\"black\" cx=\"54\" cy=\"-18\" rx=\"27\" ry=\"18\"/>\n<text text-anchor=\"middle\" x=\"54\" y=\"-14.3\" font-family=\"Times,serif\" font-size=\"14.00\">B</text>\n</g>\n<!-- C&#45;&gt;B -->\n<g id=\"edge8\" class=\"edge\">\n<title>C&#45;&gt;B</title>\n<path fill=\"none\" stroke=\"black\" d=\"M33.4,-72.41C36.51,-64.34 40.33,-54.43 43.83,-45.35\"/>\n<polygon fill=\"black\" stroke=\"black\" points=\"47.13,-46.55 47.46,-35.96 40.6,-44.03 47.13,-46.55\"/>\n</g>\n<!-- B&#45;&gt;A -->\n<g id=\"edge6\" class=\"edge\">\n<title>B&#45;&gt;A</title>\n<path fill=\"none\" stroke=\"black\" d=\"M57.39,-36.19C62.19,-60.53 71.01,-105.28 76.69,-134.06\"/>\n<polygon fill=\"black\" stroke=\"black\" points=\"73.25,-134.74 78.62,-143.87 80.12,-133.38 73.25,-134.74\"/>\n</g>\n</g>\n</svg>\n",
      "text/plain": [
       "<graphviz.graphs.Digraph at 0x7fbcd4a2c2e0>"
      ]
     },
     "execution_count": 82,
     "metadata": {},
     "output_type": "execute_result"
    }
   ],
   "source": [
    "dot = Digraph()\n",
    "\n",
    "dot.edge('S', 'E')\n",
    "dot.edge('S', 'A')\n",
    "dot.edge('E', 'D')\n",
    "dot.edge('D', 'A')\n",
    "dot.edge('A', 'C')\n",
    "dot.edge('B', 'A')\n",
    "dot.edge('D', 'C')\n",
    "dot.edge('C', 'B')\n",
    "\n",
    "#dot.view()\n",
    "dot"
   ]
  },
  {
   "cell_type": "code",
   "execution_count": 83,
   "id": "90237e9f",
   "metadata": {},
   "outputs": [],
   "source": [
    "G = Graph()\n",
    "#for i in ['0', '1', '2', '3', '4', '5']:\n",
    "for i in ['S', 'E', 'A', 'D', 'B', 'C']:\n",
    "    G.addVertex( Node(i) )"
   ]
  },
  {
   "cell_type": "code",
   "execution_count": 84,
   "id": "e2160adc",
   "metadata": {},
   "outputs": [],
   "source": [
    "V = G.vertices\n",
    "\n",
    "#dot.edge('S', 'E')\n",
    "G.addDiEdge( V[0], V[1], 8)\n",
    "\n",
    "#dot.edge('S', 'A')\n",
    "G.addDiEdge( V[0], V[2] , 10)\n",
    "\n",
    "#dot.edge('E', 'D')\n",
    "G.addDiEdge( V[1], V[3], 1)\n",
    "\n",
    "#dot.edge('D', 'A')\n",
    "G.addDiEdge( V[3], V[2], -4)\n",
    "\n",
    "#dot.edge('A', 'C')\n",
    "G.addDiEdge( V[2], V[5], 2)\n",
    "\n",
    "#dot.edge('B', 'A')\n",
    "G.addDiEdge( V[4], V[2], 1 )\n",
    "\n",
    "#dot.edge('D', 'C')\n",
    "G.addDiEdge( V[3], V[5], -1)\n",
    "\n",
    "#dot.edge('C', 'B')\n",
    "G.addDiEdge( V[5], V[4], -2 )"
   ]
  },
  {
   "cell_type": "markdown",
   "id": "8fcbaefb",
   "metadata": {},
   "source": [
    "Second Example"
   ]
  },
  {
   "cell_type": "code",
   "execution_count": 85,
   "id": "dd4d197d",
   "metadata": {},
   "outputs": [],
   "source": [
    "G = Graph()\n",
    "#for i in ['0', '1', '2', '3', '4', '5']:\n",
    "for i in ['S', 'A', 'B']:\n",
    "    G.addVertex( Node(i) )\n",
    "    \n",
    "V = G.vertices\n",
    "\n",
    "G.addDiEdge( V[0], V[1], 3)\n",
    "\n",
    "G.addDiEdge( V[0], V[2] , 4)\n",
    "\n",
    "G.addDiEdge( V[2], V[1], -2)"
   ]
  },
  {
   "cell_type": "code",
   "execution_count": 86,
   "id": "fb865755",
   "metadata": {},
   "outputs": [
    {
     "name": "stdout",
     "output_type": "stream",
     "text": [
      "Graph with:\n",
      "\t Vertices:\n",
      "\tS,A,B,\n",
      "\t Edges:\n",
      "\t(S,(<__main__.Node object at 0x7fbcd654b370>, 3)) (S,(<__main__.Node object at 0x7fbcd654b970>, 4)) (B,(<__main__.Node object at 0x7fbcd654b370>, -2)) \n",
      "\n"
     ]
    }
   ],
   "source": [
    "print(G)"
   ]
  },
  {
   "cell_type": "markdown",
   "id": "0ed62d3b",
   "metadata": {},
   "source": [
    "***"
   ]
  },
  {
   "cell_type": "markdown",
   "id": "94392ed1",
   "metadata": {},
   "source": [
    "### Section 2: Dijkstra Algorithm"
   ]
  },
  {
   "cell_type": "code",
   "execution_count": 87,
   "id": "b4d19469",
   "metadata": {},
   "outputs": [
    {
     "data": {
      "text/plain": [
       "3"
      ]
     },
     "execution_count": 87,
     "metadata": {},
     "output_type": "execute_result"
    }
   ],
   "source": [
    "len(G.vertices)"
   ]
  },
  {
   "cell_type": "code",
   "execution_count": 88,
   "id": "4df8a7a1",
   "metadata": {},
   "outputs": [],
   "source": [
    "#path tracing element\n",
    "def dijkstra(w, G):\n",
    "    parent = {}\n",
    "\n",
    "    parent [w] = -1\n",
    "    for v in G.vertices:\n",
    "        v.estD = math.inf\n",
    "        \n",
    "    w.estD = 0\n",
    "    unsureVertices = G.vertices[:]\n",
    "    \n",
    "    sureVertices = []\n",
    "    \n",
    "    while len(unsureVertices) > 0:\n",
    "    \n",
    "        # find the u with the minimum estD in the dumbest way possible\n",
    "        u = None\n",
    "        minD = math.inf\n",
    "        for x in unsureVertices:\n",
    "            if x.estD < minD:\n",
    "                minD = x.estD\n",
    "                u = x\n",
    "        \n",
    "        if u == None:\n",
    "            # then there is nothing more that I can reach\n",
    "            return \n",
    "        # update u's neighbors\n",
    "        for v, wt in u.getOutNeighborsWithWeights():\n",
    "            \n",
    "            if v in sureVertices:\n",
    "                continue\n",
    "            \n",
    "            if u.estD + wt < v.estD:\n",
    "                v.estD = u.estD + wt\n",
    "                parent[v] = u\n",
    "        \n",
    "        unsureVertices.remove(u)\n",
    "        sureVertices.append(u)\n",
    "    return parent\n",
    "    # that's it!  Now each vertex holds estD which is its distance from w"
   ]
  },
  {
   "cell_type": "code",
   "execution_count": 89,
   "id": "5bffc218",
   "metadata": {},
   "outputs": [
    {
     "name": "stdout",
     "output_type": "stream",
     "text": [
      "S 0\n",
      "A 3\n",
      "B 4\n"
     ]
    }
   ],
   "source": [
    "w = G.vertices[0]\n",
    "parent  = dijkstra(w, G)\n",
    "\n",
    "for v in G.vertices:\n",
    "    print(v.value, v.estD)"
   ]
  },
  {
   "cell_type": "markdown",
   "id": "0022f18f",
   "metadata": {},
   "source": [
    "***"
   ]
  },
  {
   "cell_type": "markdown",
   "id": "authorized-brook",
   "metadata": {},
   "source": [
    "### <font color='red'> Activity 1: Code Reflections. </font>"
   ]
  },
  {
   "cell_type": "code",
   "execution_count": 90,
   "id": "creative-reply",
   "metadata": {},
   "outputs": [
    {
     "name": "stdout",
     "output_type": "stream",
     "text": [
      "Graph with:\n",
      "\t Vertices:\n",
      "\tS,E,A,D,B,C,\n",
      "\t Edges:\n",
      "\t(S,(<__main__.Node object at 0x7fbcd654b1f0>, 8)) (S,(<__main__.Node object at 0x7fbcd6498430>, 10)) (E,(<__main__.Node object at 0x7fbcd6498b20>, 1)) (A,(<__main__.Node object at 0x7fbcd6498190>, 2)) (D,(<__main__.Node object at 0x7fbcd6498430>, 4)) (D,(<__main__.Node object at 0x7fbcd6498190>, 11)) (B,(<__main__.Node object at 0x7fbcd6498430>, 1)) (C,(<__main__.Node object at 0x7fbcd6498ca0>, 22)) \n",
      "\n",
      "S 0\n",
      "E 8\n",
      "A 10\n",
      "D 9\n",
      "B 34\n",
      "C 12\n"
     ]
    }
   ],
   "source": [
    "### TODO ###\n",
    "### Good Luck ###\n",
    "\n",
    "#Test 1\n",
    "G1 = Graph()\n",
    "#for i in ['0', '1', '2', '3', '4', '5']:\n",
    "for i in ['S', 'E', 'A', 'D', 'B', 'C']:\n",
    "    G1.addVertex( Node(i) )\n",
    "\n",
    "V = G1.vertices\n",
    "\n",
    "#dot.edge('S', 'E')\n",
    "G1.addDiEdge( V[0], V[1], 8)\n",
    "\n",
    "#dot.edge('S', 'A')\n",
    "G1.addDiEdge( V[0], V[2] , 10)\n",
    "\n",
    "#dot.edge('E', 'D')\n",
    "G1.addDiEdge( V[1], V[3], 1)\n",
    "\n",
    "#dot.edge('D', 'A')\n",
    "G1.addDiEdge( V[3], V[2], 4)\n",
    "\n",
    "#dot.edge('A', 'C')\n",
    "G1.addDiEdge( V[2], V[5], 2)\n",
    "\n",
    "#dot.edge('B', 'A')\n",
    "G1.addDiEdge( V[4], V[2], 1 )\n",
    "\n",
    "#dot.edge('D', 'C')\n",
    "G1.addDiEdge( V[3], V[5], 11)\n",
    "\n",
    "#dot.edge('C', 'B')\n",
    "G1.addDiEdge( V[5], V[4], 22 )\n",
    "\n",
    "print(G1)\n",
    "w = G1.vertices[0]\n",
    "parent = dijkstra(w,G1)\n",
    "for v in G1.vertices:\n",
    "    print(v.value, v.estD)\n",
    "\n",
    "\n",
    "\n",
    "\n"
   ]
  },
  {
   "cell_type": "code",
   "execution_count": 91,
   "id": "27768b23",
   "metadata": {},
   "outputs": [
    {
     "name": "stdout",
     "output_type": "stream",
     "text": [
      "S \n",
      "S E \n",
      "S A \n",
      "S E D \n",
      "S A C B \n",
      "S A C \n"
     ]
    }
   ],
   "source": [
    "#path finder\n",
    "def print_path(w,parent):\n",
    "    if w == -1:\n",
    "        return\n",
    "    print_path(parent[w],parent)\n",
    "    print(w, end=\" \")\n",
    "\n",
    "for v in G1.vertices:\n",
    "    print_path(v,parent)\n",
    "    print()"
   ]
  },
  {
   "cell_type": "markdown",
   "id": "f9b31a04",
   "metadata": {},
   "source": [
    "### <font color='red'> Activity 2: Modify above code to do Bellman-Ford. Make sure you test for negative cycles and compare its performance with Dijkstra. </font>"
   ]
  },
  {
   "cell_type": "code",
   "execution_count": 92,
   "id": "8d176b03",
   "metadata": {},
   "outputs": [],
   "source": [
    "#### TODO ####\n",
    "### Good Luck ###\n",
    "#path tracing element\n",
    "def BF(w, G):\n",
    "    parent = {}\n",
    "    parent [w] = -1\n",
    "    for v in G.vertices:\n",
    "        v.estD = math.inf\n",
    "        \n",
    "    w.estD = 0\n",
    "    has_neg_cycle = False\n",
    "    for i in range (len(G.vertices)):\n",
    "        for u in G.vertices:\n",
    "        # update u's neighbors\n",
    "            for v, wt in u.getOutNeighborsWithWeights():                \n",
    "                if u.estD + wt < v.estD:\n",
    "                    v.estD = u.estD + wt\n",
    "                    parent[v] = u\n",
    "    #negative cycle check\n",
    "    for u in G.vertices:\n",
    "        for v, wt in u.getOutNeighborsWithWeights():\n",
    "            if u!= math.inf and u.estD + wt < v.estD:\n",
    "                has_neg_cycle = True\n",
    "                break\n",
    "\n",
    "    return has_neg_cycle, parent\n",
    "\n",
    "    \n",
    "\n",
    "\n"
   ]
  },
  {
   "cell_type": "code",
   "execution_count": 93,
   "id": "19f7af71",
   "metadata": {},
   "outputs": [],
   "source": [
    "#graph with negativce edge\n",
    "G = Graph()\n",
    "#for i in ['0', '1', '2', '3', '4', '5']:\n",
    "for i in ['S', 'E', 'A', 'D', 'B', 'C']:\n",
    "    G.addVertex( Node(i) )\n",
    "V = G.vertices\n",
    "\n",
    "#dot.edge('S', 'E')\n",
    "G.addDiEdge( V[0], V[1], 8)\n",
    "\n",
    "#dot.edge('S', 'A')\n",
    "G.addDiEdge( V[0], V[2] , 10)\n",
    "\n",
    "#dot.edge('E', 'D')\n",
    "G.addDiEdge( V[1], V[3], 1)\n",
    "\n",
    "#dot.edge('D', 'A')\n",
    "G.addDiEdge( V[3], V[2], -4)\n",
    "\n",
    "#dot.edge('A', 'C')\n",
    "G.addDiEdge( V[2], V[5], 2)\n",
    "\n",
    "#dot.edge('B', 'A')\n",
    "G.addDiEdge( V[4], V[2], 1 )\n",
    "\n",
    "#dot.edge('D', 'C')\n",
    "G.addDiEdge( V[3], V[5], -1)\n",
    "\n",
    "#dot.edge('C', 'B')\n",
    "G.addDiEdge( V[5], V[4], -2 )\n",
    "\n"
   ]
  },
  {
   "cell_type": "markdown",
   "id": "cleared-claim",
   "metadata": {},
   "source": [
    "### <font color='red'> Activity 3: Have a look at the following Python's implementation of heap (priority Queues): HeapDict, and try to convert our Dijkstra's implementation to use this heap data structure instead. </font>"
   ]
  },
  {
   "cell_type": "code",
   "execution_count": 94,
   "id": "3a06441f",
   "metadata": {},
   "outputs": [],
   "source": [
    "import heapdict as hd"
   ]
  },
  {
   "cell_type": "code",
   "execution_count": 95,
   "id": "personal-bernard",
   "metadata": {},
   "outputs": [
    {
     "name": "stdout",
     "output_type": "stream",
     "text": [
      "Graph with:\n",
      "\t Vertices:\n",
      "\tS,E,A,D,B,C,\n",
      "\t Edges:\n",
      "\t(S,(<__main__.Node object at 0x7fbcd654b1f0>, 8)) (S,(<__main__.Node object at 0x7fbcd6498430>, 10)) (E,(<__main__.Node object at 0x7fbcd6498b20>, 1)) (A,(<__main__.Node object at 0x7fbcd6498190>, 2)) (D,(<__main__.Node object at 0x7fbcd6498430>, 4)) (D,(<__main__.Node object at 0x7fbcd6498190>, 11)) (B,(<__main__.Node object at 0x7fbcd6498430>, 1)) (C,(<__main__.Node object at 0x7fbcd6498ca0>, 22)) \n",
      "\n",
      "S 0\n",
      "S E 8\n",
      "S A 10\n",
      "S E D 9\n",
      "S A C B 34\n",
      "S A C 12\n"
     ]
    }
   ],
   "source": [
    "### TODO ###\n",
    "### Good Luck ###\n",
    "#path tracing element\n",
    "\n",
    "\n",
    "def dijkstra_heap(w, G):\n",
    "    heap = hd.heapdict()\n",
    "    parent = {}\n",
    "    distances = {}\n",
    "    for v in G.vertices:\n",
    "        v.estD = math.inf\n",
    "        heap[v] = v.estD\n",
    "        \n",
    "    w.estD, heap[w]= 0,0\n",
    "    parent[w] = -1\n",
    "    while len(heap) > 0:\n",
    "    \n",
    "        # find the u with the minimum estD in the dumbest way possible\n",
    "        u,cost = heap.popitem()\n",
    "        if u in distances:\n",
    "            continue     \n",
    "        distances[u] = cost\n",
    "        for v, wt in u.getOutNeighborsWithWeights():\n",
    "            if v in distances:\n",
    "                continue\n",
    "                print(1)\n",
    "            \n",
    "            if u.estD + wt < v.estD:\n",
    "                v.estD = u.estD + wt\n",
    "                parent[v] = u\n",
    "                heap[v] = u.estD + wt\n",
    "        \n",
    "    return distances, parent\n",
    "    \n",
    "    # that's it!  Now each vertex holds estD which is its distance from w\n",
    "\n",
    "print(G1)\n",
    "w = G1.vertices[0]\n",
    "dist, trace = dijkstra_heap(w, G1)\n",
    "for v in G1.vertices:\n",
    "    print_path(v,parent)\n",
    "    print(dist[v], end=\"\\n\")\n",
    "\n"
   ]
  },
  {
   "cell_type": "markdown",
   "id": "9c64f77d",
   "metadata": {},
   "source": [
    "***"
   ]
  },
  {
   "cell_type": "markdown",
   "id": "a85ea894",
   "metadata": {},
   "source": [
    "### Section 4: Dynammc Programming"
   ]
  },
  {
   "cell_type": "markdown",
   "id": "7f7a5d29",
   "metadata": {},
   "source": [
    "We discussed Fibonacci numbers sequence as a good example of Dynamic Programming. Let us have a look at its computation."
   ]
  },
  {
   "cell_type": "markdown",
   "id": "9dfed54a",
   "metadata": {},
   "source": [
    "+ recursive"
   ]
  },
  {
   "cell_type": "code",
   "execution_count": 96,
   "id": "91575189",
   "metadata": {},
   "outputs": [],
   "source": [
    "def Fibonacci(n):\n",
    "    if n == 0 or n == 1:\n",
    "        return 1\n",
    "    return Fibonacci(n-1) + Fibonacci(n-2)\n",
    "                "
   ]
  },
  {
   "cell_type": "markdown",
   "id": "5d4b6573",
   "metadata": {},
   "source": [
    "+ dynamic programming"
   ]
  },
  {
   "cell_type": "code",
   "execution_count": 97,
   "id": "61aff298",
   "metadata": {},
   "outputs": [],
   "source": [
    "def fasterFibonacci(n):\n",
    "    \n",
    "    F = [1 for i in range(n+1)]\n",
    "\n",
    "    for i in range(2,n+1):\n",
    "        F[i] = F[i-1] + F[i-2]\n",
    "        \n",
    "    return F[n]"
   ]
  },
  {
   "cell_type": "markdown",
   "id": "c37c03c8",
   "metadata": {},
   "source": [
    "+ recursive with memoization"
   ]
  },
  {
   "cell_type": "code",
   "execution_count": 98,
   "id": "41e606a0",
   "metadata": {},
   "outputs": [],
   "source": [
    "def Fibonacci_topdown(n,F):\n",
    "    \n",
    "    if F[n] != None:\n",
    "        return F[n]\n",
    "    \n",
    "    F[n] = Fibonacci_topdown(n-1, F) + Fibonacci_topdown(n-2, F)\n",
    "    return F[n]"
   ]
  },
  {
   "cell_type": "markdown",
   "id": "8e71bd90",
   "metadata": {},
   "source": [
    "Have a look at above different ways to compute Fibonacci numbers. Report on their running time. Make sure you know the difference between them."
   ]
  },
  {
   "cell_type": "markdown",
   "id": "01e640cf",
   "metadata": {},
   "source": [
    "***"
   ]
  },
  {
   "cell_type": "markdown",
   "id": "caroline-debut",
   "metadata": {},
   "source": [
    "### <font color='red'> Activity 4: Write a brief report comparing 'Dynamic Programming' with 'Divide-and-Conquer' strategy? (If you are not familiar with Divide-and-Conquer strategy - revisit Quick Sort or Binary Search algorithms. You should address why we can not use DP for Quick Sort or Binary Sort). </font>"
   ]
  },
  {
   "cell_type": "markdown",
   "id": "d4fb6194",
   "metadata": {},
   "source": [
    "+ Divide and Conquer is dividing the problem into small sub-problem, solving each problem recursively and combine into the overall solution. It's based on the problem that could divide into sub-problems, that share the same pattern and solving techniques, which could lead to smaller and manageable tasks from the original complex problem\n",
    "+ Dynamic programming is another approach to solve a problem by recursively break-down into sub-problems. However, for a DP solution, it requires the problems having certain characteristic: optimal structure as optimal solution could be constructed by optimal solution of sub-tasks, and overlapping sub-problems, as the sub-tasks result could be reused. \\n Simply, DP is a recursive solution with memoirization to reduce the recursion tasks.\n",
    "+ Quicksort and Binarysort are kind of problem that could be divided into sub-problems. However, these sub-tasks need to be solved individually, and the solution is concluded by combine all individual tasks instead of reused previous result from sub-tasks."
   ]
  },
  {
   "cell_type": "markdown",
   "id": "pleased-retail",
   "metadata": {},
   "source": [
    "### <font color='red'> Activity 5: You are running up a staircase with a total of n steps. You can hop either 1 step, 2 steps or 3 steps at at time. Write a DP program to determine how many possible ways you can run up the stairs? (Hint: Start with a recursive solution, and then later move to top-down approach of DP). </font>"
   ]
  },
  {
   "cell_type": "code",
   "execution_count": 100,
   "id": "dried-float",
   "metadata": {},
   "outputs": [
    {
     "name": "stdout",
     "output_type": "stream",
     "text": [
      "7\n"
     ]
    }
   ],
   "source": [
    "### TODO ###\n",
    "### Good Luck ###\n",
    "\n",
    "def solve(n):\n",
    "    f = [None for i in range(n+1)]\n",
    "    def count_step(n):\n",
    "        if f[n] != None:\n",
    "            return f[n]\n",
    "        if n == 3:\n",
    "            return 4\n",
    "        if n == 2: \n",
    "            return 2\n",
    "        if n== 1:\n",
    "            return 1\n",
    "        if n == 0: \n",
    "            return 0\n",
    "        f[n] = count_step(n-1) + count_step(n-2) + count_step(n-3)\n",
    "        return f[n]\n",
    "    \n",
    "    return (count_step(n))\n",
    "\n",
    "n = 78\n",
    "\n",
    "print(solve(4))\n",
    "\n",
    "\n",
    "\n",
    "\n"
   ]
  },
  {
   "cell_type": "markdown",
   "id": "ebd772d0",
   "metadata": {},
   "source": [
    "### <font color='red'> Activity 6: Implement Floyd-Warshal algorithm using above data structure (that is Node and Graph). Make sure to test all the use-cases. </font>"
   ]
  },
  {
   "cell_type": "code",
   "execution_count": 125,
   "id": "edf0acbd",
   "metadata": {},
   "outputs": [
    {
     "name": "stdout",
     "output_type": "stream",
     "text": [
      "Graph with:\n",
      "\t Vertices:\n",
      "\tS,E,A,D,B,C,\n",
      "\t Edges:\n",
      "\t(S,(<__main__.Node object at 0x7fbcd68b8d30>, 8)) (S,(<__main__.Node object at 0x7fbcd68b8fa0>, 10)) (E,(<__main__.Node object at 0x7fbcd68b8f70>, 1)) (A,(<__main__.Node object at 0x7fbcd67f0df0>, 2)) (D,(<__main__.Node object at 0x7fbcd68b8fa0>, 4)) (D,(<__main__.Node object at 0x7fbcd67f0df0>, 11)) (B,(<__main__.Node object at 0x7fbcd68b8fa0>, 1)) (C,(<__main__.Node object at 0x7fbcd68dd3d0>, 22)) \n",
      "\n",
      "distance between S and S:  0\n",
      "distance between S and E:  8\n",
      "distance between S and A:  10\n",
      "distance between S and D:  1000000000.0\n",
      "distance between S and B:  1000000000.0\n",
      "distance between S and C:  1000000000.0\n",
      "distance between E and S:  1000000000.0\n",
      "distance between E and E:  0\n",
      "distance between E and A:  1000000000.0\n",
      "distance between E and D:  1\n",
      "distance between E and B:  1000000000.0\n",
      "distance between E and C:  1000000000.0\n",
      "distance between A and S:  1000000000.0\n",
      "distance between A and E:  1000000000.0\n",
      "distance between A and A:  0\n",
      "distance between A and D:  1000000000.0\n",
      "distance between A and B:  1000000000.0\n",
      "distance between A and C:  2\n",
      "distance between D and S:  1000000000.0\n",
      "distance between D and E:  1000000000.0\n",
      "distance between D and A:  4\n",
      "distance between D and D:  0\n",
      "distance between D and B:  1000000000.0\n",
      "distance between D and C:  6\n",
      "distance between B and S:  1000000000.0\n",
      "distance between B and E:  1000000000.0\n",
      "distance between B and A:  1\n",
      "distance between B and D:  1000000000.0\n",
      "distance between B and B:  0\n",
      "distance between B and C:  1000000000.0\n",
      "distance between C and S:  1000000000.0\n",
      "distance between C and E:  1000000000.0\n",
      "distance between C and A:  1000000000.0\n",
      "distance between C and D:  1000000000.0\n",
      "distance between C and B:  22\n",
      "distance between C and C:  0\n"
     ]
    }
   ],
   "source": [
    "#### TODO ####\n",
    "### Good Luck ###\n",
    "### TODO ###\n",
    "### Good Luck ###\n",
    "\n",
    "#Test 1\n",
    "\n",
    "\n",
    "from collections import defaultdict\n",
    "\n",
    "\n",
    "G2 = Graph()\n",
    "#for i in ['0', '1', '2', '3', '4', '5']:\n",
    "for i in ['S', 'E', 'A', 'D', 'B', 'C']:\n",
    "    G2.addVertex( Node(i) )\n",
    "\n",
    "V = G2.vertices\n",
    "\n",
    "#dot.edge('S', 'E')\n",
    "G2.addDiEdge( V[0], V[1], 8)\n",
    "\n",
    "#dot.edge('S', 'A')\n",
    "G2.addDiEdge( V[0], V[2] , 10)\n",
    "\n",
    "#dot.edge('E', 'D')\n",
    "G2.addDiEdge( V[1], V[3], 1)\n",
    "\n",
    "#dot.edge('D', 'A')\n",
    "G2.addDiEdge( V[3], V[2], 4)\n",
    "\n",
    "#dot.edge('A', 'C')\n",
    "G2.addDiEdge( V[2], V[5], 2)\n",
    "\n",
    "#dot.edge('B', 'A')\n",
    "G2.addDiEdge( V[4], V[2], 1 )\n",
    "\n",
    "#dot.edge('D', 'C')\n",
    "G2.addDiEdge( V[3], V[5], 11)\n",
    "\n",
    "#dot.edge('C', 'B')\n",
    "G2.addDiEdge( V[5], V[4], 22 )\n",
    "\n",
    "#Floyd\n",
    "\n",
    "print(G2)\n",
    "def Floyd(G):\n",
    "    D = defaultdict(dict)\n",
    "    for u in G.vertices:\n",
    "        for v in G.vertices:\n",
    "            D[u,v] = 1e9\n",
    "    for u in G.vertices:\n",
    "        D[u,u] = 0\n",
    "        for v,wt in u.getOutNeighborsWithWeights():\n",
    "            D[u,v] = wt \n",
    "\n",
    "    \n",
    "    for k in G.vertices:\n",
    "        for u in G.vertices:\n",
    "            for v,_ in u.getOutNeighborsWithWeights():\n",
    "                D[u,v] = min(D[u,v],(D[u,k] + D[k,v]))\n",
    "            # print(D[u,k],end=\" \")\n",
    "    return D\n",
    "\n",
    "dist = Floyd(G2)\n",
    "\n",
    "for u in G2.vertices:\n",
    "    for v in G2.vertices:\n",
    "        print(f\"distance between {u} and {v}: \",dist[u,v])\n",
    "\n",
    "\n",
    "\n",
    "\n",
    "\n",
    "    \n",
    "\n",
    "\n",
    "\n",
    "\n"
   ]
  },
  {
   "cell_type": "markdown",
   "id": "e143dc12",
   "metadata": {},
   "source": [
    "***"
   ]
  },
  {
   "cell_type": "markdown",
   "id": "79cfe7ab",
   "metadata": {},
   "source": [
    "***"
   ]
  }
 ],
 "metadata": {
  "kernelspec": {
   "display_name": "Python 3.9.12 ('sit320')",
   "language": "python",
   "name": "python3"
  },
  "language_info": {
   "codemirror_mode": {
    "name": "ipython",
    "version": 3
   },
   "file_extension": ".py",
   "mimetype": "text/x-python",
   "name": "python",
   "nbconvert_exporter": "python",
   "pygments_lexer": "ipython3",
   "version": "3.9.12"
  },
  "vscode": {
   "interpreter": {
    "hash": "56e6bb6427519132123cd815ae54e5a1ae8039f336ade0a430b8c4660a822be6"
   }
  }
 },
 "nbformat": 4,
 "nbformat_minor": 5
}
