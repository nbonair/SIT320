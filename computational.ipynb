{
  "nbformat": 4,
  "nbformat_minor": 0,
  "metadata": {
    "colab": {
      "provenance": [],
      "collapsed_sections": [],
      "authorship_tag": "ABX9TyMRKofBmtLNwfI2YCkT3DbM",
      "include_colab_link": true
    },
    "kernelspec": {
      "name": "python3",
      "display_name": "Python 3"
    },
    "language_info": {
      "name": "python"
    }
  },
  "cells": [
    {
      "cell_type": "markdown",
      "metadata": {
        "id": "view-in-github",
        "colab_type": "text"
      },
      "source": [
        "<a href=\"https://colab.research.google.com/github/nbonair/SIT320-Algorithm/blob/main/computational.ipynb\" target=\"_parent\"><img src=\"https://colab.research.google.com/assets/colab-badge.svg\" alt=\"Open In Colab\"/></a>"
      ]
    },
    {
      "cell_type": "code",
      "execution_count": 1,
      "metadata": {
        "colab": {
          "base_uri": "https://localhost:8080/",
          "height": 0
        },
        "id": "tmkpGHnod9a5",
        "outputId": "fe03ccb1-4701-4555-b05a-2b87919b9994"
      },
      "outputs": [
        {
          "output_type": "stream",
          "name": "stdout",
          "text": [
            "Looking in indexes: https://pypi.org/simple, https://us-python.pkg.dev/colab-wheels/public/simple/\n",
            "Collecting pulp\n",
            "  Downloading PuLP-2.6.0-py3-none-any.whl (14.2 MB)\n",
            "\u001b[K     |████████████████████████████████| 14.2 MB 3.7 MB/s \n",
            "\u001b[?25hInstalling collected packages: pulp\n",
            "Successfully installed pulp-2.6.0\n"
          ]
        }
      ],
      "source": [
        "!pip install pulp\n"
      ]
    },
    {
      "cell_type": "code",
      "source": [
        "from pulp import *"
      ],
      "metadata": {
        "id": "26oTyVE7eI1R"
      },
      "execution_count": 2,
      "outputs": []
    },
    {
      "cell_type": "code",
      "source": [
        "prob = LpProblem(\"Ex1\",LpMinimize)\n",
        "import numpy as np\n",
        "# constraints\n",
        "C = np.array([-1,-2,0,2,2,3,1,-2,1,2,3,3,-2])\n",
        "x = []\n",
        "#integer constraint\n",
        "for i in range(len(C)):\n",
        "    x.append(LpVariable(\"x\"+str(i), lowBound=0, upBound=1, cat='Integer'))\n",
        "print(x)\n",
        "x = np.array(x)\n",
        "\n",
        "#objective func\n",
        "prob += np.matmul(C,x)\n",
        "#Constraint\n",
        "A = [[2,-1,2,5,-2,3,0,-2,2,-1,-1,0,1],\n",
        "     [1,1,1,3,2,5,-2,2,5,0,2,3,5],\n",
        "     [5,4,-2,3,0,0,4,-2,5,3,3,5,-2],\n",
        "     [4,0,5,-2,-2,0,3,1,0,5,3,0,-2],\n",
        "     [-2,-1,4,3,-2,-2,0,5,5,-2,-2,2,5]]\n",
        "A  = np.array(A)\n",
        "b =np.array( [9.4,19.6,9.6,1.5,11.1])\n",
        "print(A)\n",
        "for i in range(len(b)):\n",
        "    prob+= np.matmul(A[i],x) <= b[i]\n",
        "print(prob)\n",
        "status = prob.solve()\n",
        "print(\"Lp current status: \",LpStatus[status])\n",
        "print(\"Result\")\n",
        "for i in range(len(x)):\n",
        "    print(int(value(x[i])), end = \" \")\n",
        "print( value(prob.objective))"
      ],
      "metadata": {
        "colab": {
          "base_uri": "https://localhost:8080/",
          "height": 0
        },
        "id": "lpDervUJePVp",
        "outputId": "33f505cf-6d1e-4fb2-d420-60b4c94b7f34"
      },
      "execution_count": 41,
      "outputs": [
        {
          "output_type": "stream",
          "name": "stdout",
          "text": [
            "[x0, x1, x2, x3, x4, x5, x6, x7, x8, x9, x10, x11, x12]\n",
            "[[ 2 -1  2  5 -2  3  0 -2  2 -1 -1  0  1]\n",
            " [ 1  1  1  3  2  5 -2  2  5  0  2  3  5]\n",
            " [ 5  4 -2  3  0  0  4 -2  5  3  3  5 -2]\n",
            " [ 4  0  5 -2 -2  0  3  1  0  5  3  0 -2]\n",
            " [-2 -1  4  3 -2 -2  0  5  5 -2 -2  2  5]]\n",
            "Ex1:\n",
            "MINIMIZE\n",
            "-1*x0 + -2*x1 + 3*x10 + 3*x11 + -2*x12 + 2*x3 + 2*x4 + 3*x5 + 1*x6 + -2*x7 + 1*x8 + 2*x9 + 0\n",
            "SUBJECT TO\n",
            "_C1: 2 x0 - x1 - x10 + x12 + 2 x2 + 5 x3 - 2 x4 + 3 x5 - 2 x7 + 2 x8 - x9\n",
            " <= 9.4\n",
            "\n",
            "_C2: x0 + x1 + 2 x10 + 3 x11 + 5 x12 + x2 + 3 x3 + 2 x4 + 5 x5 - 2 x6 + 2 x7\n",
            " + 5 x8 <= 19.6\n",
            "\n",
            "_C3: 5 x0 + 4 x1 + 3 x10 + 5 x11 - 2 x12 - 2 x2 + 3 x3 + 4 x6 - 2 x7 + 5 x8\n",
            " + 3 x9 <= 9.6\n",
            "\n",
            "_C4: 4 x0 + 3 x10 - 2 x12 + 5 x2 - 2 x3 - 2 x4 + 3 x6 + x7 + 5 x9 <= 1.5\n",
            "\n",
            "_C5: - 2 x0 - x1 - 2 x10 + 2 x11 + 5 x12 + 4 x2 + 3 x3 - 2 x4 - 2 x5 + 5 x7\n",
            " + 5 x8 - 2 x9 <= 11.1\n",
            "\n",
            "VARIABLES\n",
            "0 <= x0 <= 1 Integer\n",
            "0 <= x1 <= 1 Integer\n",
            "0 <= x10 <= 1 Integer\n",
            "0 <= x11 <= 1 Integer\n",
            "0 <= x12 <= 1 Integer\n",
            "0 <= x2 <= 1 Integer\n",
            "0 <= x3 <= 1 Integer\n",
            "0 <= x4 <= 1 Integer\n",
            "0 <= x5 <= 1 Integer\n",
            "0 <= x6 <= 1 Integer\n",
            "0 <= x7 <= 1 Integer\n",
            "0 <= x8 <= 1 Integer\n",
            "0 <= x9 <= 1 Integer\n",
            "\n",
            "Lp current status:  Optimal\n",
            "Result\n",
            "0 1 0 0 0 0 0 1 0 0 0 0 1 -6.0\n"
          ]
        }
      ]
    },
    {
      "cell_type": "code",
      "source": [
        "prob = LpProblem(\"Ex2\",LpMaximize)\n",
        "import numpy as np\n",
        "# constraints\n",
        "C = np.array([5,2,4,-1,-2,0,-2,-1,-2,-1,-2,-2,0,5,3])\n",
        "\n",
        "x = []\n",
        "#integer constraint\n",
        "for i in range(len(C)):\n",
        "    x.append(LpVariable(\"x\"+str(i), lowBound=0, upBound = 10))\n",
        "print(x)\n",
        "x = np.array(x)\n",
        "\n",
        "#objective func\n",
        "prob += np.matmul(C,x)\n",
        "#Constraint\n",
        "A = [[1,3,5,0,5,-1,4,4,4,-2,2,0,4,2,-1],\n",
        "     [5,3,2,4,-2,1,0,3,-2,-2,5,0,-2,0,-2],\n",
        "     [2,2,5,-2,3,0,-2,1,4,0,4,4,-2,2,1],\n",
        "     [5,-1,3,2,-2,-1,4,5,0,4,4,4,4,5,2],\n",
        "     [4,4,3,-1,1,4,3,2,-2,5,-2,5,1,-2,-1]]\n",
        "A  = np.array(A)\n",
        "b =np.array( [101,101,72,157,114])\n",
        "print(A)\n",
        "for i in range(len(b)):\n",
        "    prob+= np.matmul(A[i],x) <= b[i]\n",
        "print(prob)\n",
        "status = prob.solve()\n",
        "print(\"Lp current status: \",LpStatus[status])\n",
        "print(\"Result\")\n",
        "for i in range(len(x)):\n",
        "    print(int(value(x[i])), end = \" \")\n",
        "print()\n",
        "print( \"objective function: \",value(prob.objective))"
      ],
      "metadata": {
        "colab": {
          "base_uri": "https://localhost:8080/",
          "height": 0
        },
        "id": "VSkDk7WEn9XN",
        "outputId": "84ec3232-b80b-4e86-c6ac-bfe2f97eb349"
      },
      "execution_count": 46,
      "outputs": [
        {
          "output_type": "stream",
          "name": "stdout",
          "text": [
            "[x0, x1, x2, x3, x4, x5, x6, x7, x8, x9, x10, x11, x12, x13, x14]\n",
            "[[ 1  3  5  0  5 -1  4  4  4 -2  2  0  4  2 -1]\n",
            " [ 5  3  2  4 -2  1  0  3 -2 -2  5  0 -2  0 -2]\n",
            " [ 2  2  5 -2  3  0 -2  1  4  0  4  4 -2  2  1]\n",
            " [ 5 -1  3  2 -2 -1  4  5  0  4  4  4  4  5  2]\n",
            " [ 4  4  3 -1  1  4  3  2 -2  5 -2  5  1 -2 -1]]\n",
            "Ex2:\n",
            "MAXIMIZE\n",
            "5*x0 + 2*x1 + -2*x10 + -2*x11 + 5*x13 + 3*x14 + 4*x2 + -1*x3 + -2*x4 + -2*x6 + -1*x7 + -2*x8 + -1*x9 + 0\n",
            "SUBJECT TO\n",
            "_C1: x0 + 3 x1 + 2 x10 + 4 x12 + 2 x13 - x14 + 5 x2 + 5 x4 - x5 + 4 x6 + 4 x7\n",
            " + 4 x8 - 2 x9 <= 101\n",
            "\n",
            "_C2: 5 x0 + 3 x1 + 5 x10 - 2 x12 - 2 x14 + 2 x2 + 4 x3 - 2 x4 + x5 + 3 x7\n",
            " - 2 x8 - 2 x9 <= 101\n",
            "\n",
            "_C3: 2 x0 + 2 x1 + 4 x10 + 4 x11 - 2 x12 + 2 x13 + x14 + 5 x2 - 2 x3 + 3 x4\n",
            " - 2 x6 + x7 + 4 x8 <= 72\n",
            "\n",
            "_C4: 5 x0 - x1 + 4 x10 + 4 x11 + 4 x12 + 5 x13 + 2 x14 + 3 x2 + 2 x3 - 2 x4\n",
            " - x5 + 4 x6 + 5 x7 + 4 x9 <= 157\n",
            "\n",
            "_C5: 4 x0 + 4 x1 - 2 x10 + 5 x11 + x12 - 2 x13 - x14 + 3 x2 - x3 + x4 + 4 x5\n",
            " + 3 x6 + 2 x7 - 2 x8 + 5 x9 <= 114\n",
            "\n",
            "VARIABLES\n",
            "x0 <= 10 Continuous\n",
            "x1 <= 10 Continuous\n",
            "x10 <= 10 Continuous\n",
            "x11 <= 10 Continuous\n",
            "x12 <= 10 Continuous\n",
            "x13 <= 10 Continuous\n",
            "x14 <= 10 Continuous\n",
            "x2 <= 10 Continuous\n",
            "x3 <= 10 Continuous\n",
            "x4 <= 10 Continuous\n",
            "x5 <= 10 Continuous\n",
            "x6 <= 10 Continuous\n",
            "x7 <= 10 Continuous\n",
            "x8 <= 10 Continuous\n",
            "x9 <= 10 Continuous\n",
            "\n",
            "Lp current status:  Optimal\n",
            "Result\n",
            "10 10 5 3 0 10 0 0 0 0 0 0 8 10 10 \n",
            "objective function:  167.54545460000003\n"
          ]
        }
      ]
    }
  ]
}